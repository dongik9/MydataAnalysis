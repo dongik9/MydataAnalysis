{
 "cells": [
  {
   "cell_type": "code",
   "execution_count": 73,
   "id": "a5235628",
   "metadata": {},
   "outputs": [],
   "source": [
    "import pandas as pd\n",
    "import matplotlib.pyplot as plt\n",
    "import seaborn as sns\n",
    "import numpy as np\n",
    "\n",
    "from sklearn.linear_model import LinearRegression\n",
    "from sklearn.tree import DecisionTreeRegressor\n",
    "from sklearn.ensemble import RandomForestRegressor\n",
    "from sklearn.model_selection import train_test_split"
   ]
  },
  {
   "cell_type": "code",
   "execution_count": 74,
   "id": "5029f70c",
   "metadata": {},
   "outputs": [
    {
     "data": {
      "text/plain": [
       "((10886, 12), (6493, 9), (6493, 2))"
      ]
     },
     "execution_count": 74,
     "metadata": {},
     "output_type": "execute_result"
    }
   ],
   "source": [
    "train = pd.read_csv(\"./bike_data/train.csv\", parse_dates=['datetime'])\n",
    "test = pd.read_csv(\"./bike_data/test.csv\", parse_dates=['datetime'])\n",
    "sub = pd.read_csv(\"./bike_data/sampleSubmission.csv\")\n",
    "\n",
    "train.shape, test.shape, sub.shape"
   ]
  },
  {
   "cell_type": "code",
   "execution_count": 75,
   "id": "c1a3ff2a",
   "metadata": {},
   "outputs": [],
   "source": [
    "f_names = ['temp', 'atemp']\n",
    "X_tr_all = train[f_names]         # 학습용 데이터의 변수 선택 \n",
    "y_tr_all = train['count']         # 학습용 데이터의 레이블 변수 선택\n",
    "\n",
    "last_X_test = test[f_names]       # 최종 예측. 테스트 데이터의 변수 선택 "
   ]
  },
  {
   "cell_type": "code",
   "execution_count": 76,
   "id": "cb90bf0e",
   "metadata": {},
   "outputs": [],
   "source": [
    "from sklearn.model_selection import train_test_split"
   ]
  },
  {
   "cell_type": "code",
   "execution_count": 77,
   "id": "6ab0b861",
   "metadata": {},
   "outputs": [],
   "source": [
    "X_train, X_test, y_train, y_test = train_test_split(X_tr_all, \n",
    "                                                    y_tr_all,\n",
    "                                                    test_size=0.3,\n",
    "                                                    random_state=77)"
   ]
  },
  {
   "cell_type": "code",
   "execution_count": 78,
   "id": "f136c968",
   "metadata": {},
   "outputs": [],
   "source": [
    "from sklearn.linear_model import LinearRegression"
   ]
  },
  {
   "cell_type": "code",
   "execution_count": 79,
   "id": "cf6beb8c",
   "metadata": {},
   "outputs": [
    {
     "name": "stdout",
     "output_type": "stream",
     "text": [
      "학습용 세트 결정계수 : 0.159\n",
      "테스트 세트 결정계수 : 0.146\n"
     ]
    },
    {
     "data": {
      "text/plain": [
       "array([235.46986679, 151.05560946, 218.26182702, ..., 133.09294136,\n",
       "       151.05560946,  82.34013525])"
      ]
     },
     "execution_count": 79,
     "metadata": {},
     "output_type": "execute_result"
    }
   ],
   "source": [
    "model = LinearRegression()\n",
    "model.fit(X_train, y_train)\n",
    "\n",
    "# score()함수를 이용 - 결정계수 확인\n",
    "print(\"학습용 세트 결정계수 : {:.3f}\".format(model.score(X_train, y_train)))\n",
    "print(\"테스트 세트 결정계수 : {:.3f}\".format(model.score(X_test, y_test)))\n",
    "\n",
    "model.predict(X_test)         # 예측(새로운 데이터로)\n"
   ]
  },
  {
   "cell_type": "code",
   "execution_count": 80,
   "id": "eb9a082b",
   "metadata": {},
   "outputs": [
    {
     "name": "stdout",
     "output_type": "stream",
     "text": [
      "[8.18286924 0.99950771]\n",
      "3.8812023741951123\n"
     ]
    }
   ],
   "source": [
    "print( model.coef_ )         # 모델(선형회귀의 계수)\n",
    "print( model.intercept_)     # 모델(선형 회귀의 교차점)"
   ]
  },
  {
   "cell_type": "code",
   "execution_count": 81,
   "id": "4f989ebe",
   "metadata": {},
   "outputs": [
    {
     "data": {
      "text/html": [
       "<div>\n",
       "<style scoped>\n",
       "    .dataframe tbody tr th:only-of-type {\n",
       "        vertical-align: middle;\n",
       "    }\n",
       "\n",
       "    .dataframe tbody tr th {\n",
       "        vertical-align: top;\n",
       "    }\n",
       "\n",
       "    .dataframe thead th {\n",
       "        text-align: right;\n",
       "    }\n",
       "</style>\n",
       "<table border=\"1\" class=\"dataframe\">\n",
       "  <thead>\n",
       "    <tr style=\"text-align: right;\">\n",
       "      <th></th>\n",
       "      <th>datetime</th>\n",
       "      <th>count</th>\n",
       "    </tr>\n",
       "  </thead>\n",
       "  <tbody>\n",
       "    <tr>\n",
       "      <th>0</th>\n",
       "      <td>2011-01-20 00:00:00</td>\n",
       "      <td>102.469994</td>\n",
       "    </tr>\n",
       "    <tr>\n",
       "      <th>1</th>\n",
       "      <td>2011-01-20 01:00:00</td>\n",
       "      <td>104.738876</td>\n",
       "    </tr>\n",
       "    <tr>\n",
       "      <th>2</th>\n",
       "      <td>2011-01-20 02:00:00</td>\n",
       "      <td>104.738876</td>\n",
       "    </tr>\n",
       "    <tr>\n",
       "      <th>3</th>\n",
       "      <td>2011-01-20 03:00:00</td>\n",
       "      <td>103.984248</td>\n",
       "    </tr>\n",
       "    <tr>\n",
       "      <th>4</th>\n",
       "      <td>2011-01-20 04:00:00</td>\n",
       "      <td>103.984248</td>\n",
       "    </tr>\n",
       "    <tr>\n",
       "      <th>...</th>\n",
       "      <td>...</td>\n",
       "      <td>...</td>\n",
       "    </tr>\n",
       "    <tr>\n",
       "      <th>6488</th>\n",
       "      <td>2012-12-31 19:00:00</td>\n",
       "      <td>103.984248</td>\n",
       "    </tr>\n",
       "    <tr>\n",
       "      <th>6489</th>\n",
       "      <td>2012-12-31 20:00:00</td>\n",
       "      <td>103.984248</td>\n",
       "    </tr>\n",
       "    <tr>\n",
       "      <th>6490</th>\n",
       "      <td>2012-12-31 21:00:00</td>\n",
       "      <td>103.984248</td>\n",
       "    </tr>\n",
       "    <tr>\n",
       "      <th>6491</th>\n",
       "      <td>2012-12-31 22:00:00</td>\n",
       "      <td>104.738876</td>\n",
       "    </tr>\n",
       "    <tr>\n",
       "      <th>6492</th>\n",
       "      <td>2012-12-31 23:00:00</td>\n",
       "      <td>104.738876</td>\n",
       "    </tr>\n",
       "  </tbody>\n",
       "</table>\n",
       "<p>6493 rows × 2 columns</p>\n",
       "</div>"
      ],
      "text/plain": [
       "                 datetime       count\n",
       "0     2011-01-20 00:00:00  102.469994\n",
       "1     2011-01-20 01:00:00  104.738876\n",
       "2     2011-01-20 02:00:00  104.738876\n",
       "3     2011-01-20 03:00:00  103.984248\n",
       "4     2011-01-20 04:00:00  103.984248\n",
       "...                   ...         ...\n",
       "6488  2012-12-31 19:00:00  103.984248\n",
       "6489  2012-12-31 20:00:00  103.984248\n",
       "6490  2012-12-31 21:00:00  103.984248\n",
       "6491  2012-12-31 22:00:00  104.738876\n",
       "6492  2012-12-31 23:00:00  104.738876\n",
       "\n",
       "[6493 rows x 2 columns]"
      ]
     },
     "execution_count": 81,
     "metadata": {},
     "output_type": "execute_result"
    }
   ],
   "source": [
    "pred = model.predict(last_X_test)   # 예측\n",
    "sub['count'] = pred\n",
    "sub"
   ]
  },
  {
   "cell_type": "code",
   "execution_count": 82,
   "id": "78843f2c",
   "metadata": {},
   "outputs": [],
   "source": [
    "# 처음 만는 제출용 csv 파일, 행번호를 없애기\n",
    "sub.to_csv(\"firstsubmission.csv\", index=False)"
   ]
  },
  {
   "cell_type": "code",
   "execution_count": 83,
   "id": "a8cd3a13",
   "metadata": {},
   "outputs": [],
   "source": [
    "f_names = ['season', 'holiday', 'workingday', 'weather', 'temp', \n",
    "           'atemp', 'humidity', 'windspeed']\n",
    "X_tr_all = train[f_names]         # 학습용 데이터의 변수 선택 \n",
    "last_X_test = test[f_names]       # 테스트 데이터의 변수 선택 \n",
    "\n",
    "y_tr_all = train['count']"
   ]
  },
  {
   "cell_type": "code",
   "execution_count": 84,
   "id": "e2a035b2",
   "metadata": {},
   "outputs": [],
   "source": [
    "from sklearn.model_selection import train_test_split\n",
    "\n",
    "X_train, X_test, y_train, y_test = train_test_split(X_tr_all, \n",
    "                                                    y_tr_all,\n",
    "                                                    test_size=0.3,\n",
    "                                                    random_state=77)"
   ]
  },
  {
   "cell_type": "code",
   "execution_count": 85,
   "id": "a62e8314",
   "metadata": {},
   "outputs": [
    {
     "name": "stdout",
     "output_type": "stream",
     "text": [
      "학습용 세트 결정계수: 0.262\n",
      "테스트 세트 결정계수: 0.257\n"
     ]
    }
   ],
   "source": [
    "model = LinearRegression()\n",
    "model.fit(X_train, y_train)\n",
    "\n",
    "# 결정계수 확인\n",
    "print(\"학습용 세트 결정계수: {:.3f}\".format(model.score(X_train, y_train)))\n",
    "print(\"테스트 세트 결정계수: {:.3f}\".format(model.score(X_test, y_test)))"
   ]
  },
  {
   "cell_type": "markdown",
   "id": "ac30d92e",
   "metadata": {},
   "source": [
    "### 몇개의 피처를 상호간의 연산을 통해 여러개의 피처 만들기"
   ]
  },
  {
   "cell_type": "code",
   "execution_count": 86,
   "id": "981c7d8b",
   "metadata": {},
   "outputs": [],
   "source": [
    "from sklearn.preprocessing import PolynomialFeatures"
   ]
  },
  {
   "cell_type": "code",
   "execution_count": 87,
   "id": "ee63f070",
   "metadata": {},
   "outputs": [],
   "source": [
    "sel = ['season', 'weather', 'temp']\n",
    "\n",
    "X_tr = train[sel]\n",
    "y = train['count']\n",
    "\n",
    "last_X_test = test[sel]"
   ]
  },
  {
   "cell_type": "code",
   "execution_count": 88,
   "id": "db9150b1",
   "metadata": {},
   "outputs": [
    {
     "data": {
      "text/plain": [
       "((10886, 3), (10886, 9))"
      ]
     },
     "execution_count": 88,
     "metadata": {},
     "output_type": "execute_result"
    }
   ],
   "source": [
    "ex_X_tr = PolynomialFeatures(degree=2, include_bias=False).fit_transform(X_tr)\n",
    "\n",
    "X_tr.shape, ex_X_tr.shape"
   ]
  },
  {
   "cell_type": "code",
   "execution_count": 89,
   "id": "61df1fc3",
   "metadata": {},
   "outputs": [
    {
     "data": {
      "text/plain": [
       "((10886, 3), (10886, 19))"
      ]
     },
     "execution_count": 89,
     "metadata": {},
     "output_type": "execute_result"
    }
   ],
   "source": [
    "ex_X2_tr = PolynomialFeatures(degree=3, include_bias=False).fit_transform(X_tr)\n",
    "\n",
    "X_tr.shape, ex_X2_tr.shape"
   ]
  },
  {
   "cell_type": "code",
   "execution_count": 90,
   "id": "c7a8b0dd",
   "metadata": {},
   "outputs": [],
   "source": [
    "X_train, X_test, y_train, y_test = train_test_split(ex_X_tr, \n",
    "                                                   y, test_size=0.3,\n",
    "                                                   random_state=77)"
   ]
  },
  {
   "cell_type": "code",
   "execution_count": 91,
   "id": "4f66a29a",
   "metadata": {},
   "outputs": [
    {
     "name": "stdout",
     "output_type": "stream",
     "text": [
      "학습용 세트 결정계수: 0.199\n",
      "테스트 세트 결정계수: 0.182\n"
     ]
    }
   ],
   "source": [
    "model = LinearRegression()\n",
    "model.fit(X_train, y_train)\n",
    "\n",
    "# score()함수를 이용 - 결정계수 확인\n",
    "print(\"학습용 세트 결정계수: {:.3f}\".format(model.score(X_train, y_train)))\n",
    "print(\"테스트 세트 결정계수: {:.3f}\".format(model.score(X_test, y_test)))"
   ]
  },
  {
   "cell_type": "markdown",
   "id": "b76d7de8",
   "metadata": {},
   "source": [
    "* 3개의 피처의 모델에 비해 성능이 개선되었다. (9개의 피처를 사용.)"
   ]
  },
  {
   "cell_type": "markdown",
   "id": "577c6ff7",
   "metadata": {},
   "source": [
    "* 1-10 8개의 피처에 다항회귀를 통한 피처 생성 후, 성능 확인해 보기."
   ]
  },
  {
   "cell_type": "code",
   "execution_count": 92,
   "id": "7609794a",
   "metadata": {},
   "outputs": [],
   "source": [
    "f_names = ['season', 'holiday', 'workingday', 'weather', 'temp', \n",
    "           'atemp', 'humidity', 'windspeed']\n",
    "\n",
    "X_tr_all = train[f_names]         # 학습용 데이터의 변수 선택 \n",
    "y_tr_all = train['count']\n",
    "last_X_test = test[f_names]       # 테스트 데이터의 변수 선택 "
   ]
  },
  {
   "cell_type": "code",
   "execution_count": 93,
   "id": "e4c3040b",
   "metadata": {},
   "outputs": [
    {
     "data": {
      "text/plain": [
       "((10886, 8), (10886, 164))"
      ]
     },
     "execution_count": 93,
     "metadata": {},
     "output_type": "execute_result"
    }
   ],
   "source": [
    "ex_X_tr = PolynomialFeatures(degree=3, include_bias=False).fit_transform(X_tr_all)\n",
    "\n",
    "X_tr_all.shape, ex_X_tr.shape"
   ]
  },
  {
   "cell_type": "code",
   "execution_count": 94,
   "id": "03490937",
   "metadata": {},
   "outputs": [],
   "source": [
    "X_train, X_test, y_train, y_test = train_test_split(ex_X_tr, \n",
    "                                                    y,\n",
    "                                                    test_size=0.3,\n",
    "                                                    random_state=77)"
   ]
  },
  {
   "cell_type": "code",
   "execution_count": 95,
   "id": "bcf13856",
   "metadata": {},
   "outputs": [
    {
     "name": "stdout",
     "output_type": "stream",
     "text": [
      "학습용 세트 결정계수: 0.338\n",
      "테스트 세트 결정계수: 0.326\n"
     ]
    }
   ],
   "source": [
    "model = LinearRegression()\n",
    "model.fit(X_train, y_train)\n",
    "\n",
    "# score()함수를 이용 - 결정계수 확인\n",
    "print(\"학습용 세트 결정계수: {:.3f}\".format(model.score(X_train, y_train)))\n",
    "print(\"테스트 세트 결정계수: {:.3f}\".format(model.score(X_test, y_test)))"
   ]
  },
  {
   "cell_type": "code",
   "execution_count": 96,
   "id": "14ab394c",
   "metadata": {},
   "outputs": [],
   "source": [
    "### degree : 2  - 피처 44 -> 0.308\n",
    "### degree : 3  - 피처 164 -> 0.338"
   ]
  },
  {
   "cell_type": "code",
   "execution_count": 97,
   "id": "21be6d08",
   "metadata": {},
   "outputs": [
    {
     "name": "stdout",
     "output_type": "stream",
     "text": [
      "학습용 세트 결정계수: 0.856\n",
      "테스트 세트 결정계수: 0.301\n"
     ]
    }
   ],
   "source": [
    "model = RandomForestRegressor()\n",
    "model.fit(X_train, y_train)\n",
    "\n",
    "# score()함수를 이용 - 결정계수 확인\n",
    "print(\"학습용 세트 결정계수: {:.3f}\".format(model.score(X_train, y_train)))\n",
    "print(\"테스트 세트 결정계수: {:.3f}\".format(model.score(X_test, y_test)))"
   ]
  },
  {
   "cell_type": "markdown",
   "id": "a7698c1a",
   "metadata": {},
   "source": [
    "## 정규화"
   ]
  },
  {
   "cell_type": "code",
   "execution_count": 98,
   "id": "dd85986a",
   "metadata": {},
   "outputs": [],
   "source": [
    "from sklearn.preprocessing import MinMaxScaler\n",
    "from sklearn.preprocessing import PolynomialFeatures"
   ]
  },
  {
   "cell_type": "code",
   "execution_count": 99,
   "id": "eba787c3",
   "metadata": {},
   "outputs": [
    {
     "data": {
      "text/plain": [
       "Index(['datetime', 'season', 'holiday', 'workingday', 'weather', 'temp',\n",
       "       'atemp', 'humidity', 'windspeed', 'casual', 'registered', 'count'],\n",
       "      dtype='object')"
      ]
     },
     "execution_count": 99,
     "metadata": {},
     "output_type": "execute_result"
    }
   ],
   "source": [
    "train.columns"
   ]
  },
  {
   "cell_type": "code",
   "execution_count": 101,
   "id": "4c0594d4",
   "metadata": {},
   "outputs": [],
   "source": [
    "sel = ['season', 'weather', 'temp']\n",
    "\n",
    "X_tr_all = train[sel]"
   ]
  },
  {
   "cell_type": "code",
   "execution_count": 102,
   "id": "9512cb76",
   "metadata": {},
   "outputs": [
    {
     "data": {
      "text/html": [
       "<div>\n",
       "<style scoped>\n",
       "    .dataframe tbody tr th:only-of-type {\n",
       "        vertical-align: middle;\n",
       "    }\n",
       "\n",
       "    .dataframe tbody tr th {\n",
       "        vertical-align: top;\n",
       "    }\n",
       "\n",
       "    .dataframe thead th {\n",
       "        text-align: right;\n",
       "    }\n",
       "</style>\n",
       "<table border=\"1\" class=\"dataframe\">\n",
       "  <thead>\n",
       "    <tr style=\"text-align: right;\">\n",
       "      <th></th>\n",
       "      <th>season</th>\n",
       "      <th>weather</th>\n",
       "      <th>temp</th>\n",
       "    </tr>\n",
       "  </thead>\n",
       "  <tbody>\n",
       "    <tr>\n",
       "      <th>count</th>\n",
       "      <td>10886.000000</td>\n",
       "      <td>10886.000000</td>\n",
       "      <td>10886.00000</td>\n",
       "    </tr>\n",
       "    <tr>\n",
       "      <th>mean</th>\n",
       "      <td>2.506614</td>\n",
       "      <td>1.418427</td>\n",
       "      <td>20.23086</td>\n",
       "    </tr>\n",
       "    <tr>\n",
       "      <th>std</th>\n",
       "      <td>1.116174</td>\n",
       "      <td>0.633839</td>\n",
       "      <td>7.79159</td>\n",
       "    </tr>\n",
       "    <tr>\n",
       "      <th>min</th>\n",
       "      <td>1.000000</td>\n",
       "      <td>1.000000</td>\n",
       "      <td>0.82000</td>\n",
       "    </tr>\n",
       "    <tr>\n",
       "      <th>25%</th>\n",
       "      <td>2.000000</td>\n",
       "      <td>1.000000</td>\n",
       "      <td>13.94000</td>\n",
       "    </tr>\n",
       "    <tr>\n",
       "      <th>50%</th>\n",
       "      <td>3.000000</td>\n",
       "      <td>1.000000</td>\n",
       "      <td>20.50000</td>\n",
       "    </tr>\n",
       "    <tr>\n",
       "      <th>75%</th>\n",
       "      <td>4.000000</td>\n",
       "      <td>2.000000</td>\n",
       "      <td>26.24000</td>\n",
       "    </tr>\n",
       "    <tr>\n",
       "      <th>max</th>\n",
       "      <td>4.000000</td>\n",
       "      <td>4.000000</td>\n",
       "      <td>41.00000</td>\n",
       "    </tr>\n",
       "  </tbody>\n",
       "</table>\n",
       "</div>"
      ],
      "text/plain": [
       "             season       weather         temp\n",
       "count  10886.000000  10886.000000  10886.00000\n",
       "mean       2.506614      1.418427     20.23086\n",
       "std        1.116174      0.633839      7.79159\n",
       "min        1.000000      1.000000      0.82000\n",
       "25%        2.000000      1.000000     13.94000\n",
       "50%        3.000000      1.000000     20.50000\n",
       "75%        4.000000      2.000000     26.24000\n",
       "max        4.000000      4.000000     41.00000"
      ]
     },
     "execution_count": 102,
     "metadata": {},
     "output_type": "execute_result"
    }
   ],
   "source": [
    "X_tr_all.describe()"
   ]
  },
  {
   "cell_type": "code",
   "execution_count": 103,
   "id": "2ec6fedf",
   "metadata": {},
   "outputs": [],
   "source": [
    "scaler = MinMaxScaler().fit(X_tr_all)\n",
    "nor_X_tr_all = scaler.transform(X_tr_all)\n",
    "y_tr_all = train['count']\n",
    "\n",
    "last_X_test = test[sel]"
   ]
  },
  {
   "cell_type": "code",
   "execution_count": 104,
   "id": "7d5bb62b",
   "metadata": {},
   "outputs": [],
   "source": [
    "X_train, X_test, y_train, y_test = train_test_split(nor_X_tr_all, \n",
    "                                                    y_tr_all,\n",
    "                                                    test_size=0.3,\n",
    "                                                    random_state=77)"
   ]
  },
  {
   "cell_type": "code",
   "execution_count": 105,
   "id": "52074a66",
   "metadata": {},
   "outputs": [
    {
     "name": "stdout",
     "output_type": "stream",
     "text": [
      "학습용 세트 결정계수: 0.175\n",
      "테스트 세트 결정계수: 0.163\n"
     ]
    }
   ],
   "source": [
    "model = LinearRegression()\n",
    "model.fit(X_train, y_train)\n",
    "\n",
    "# 결정계수 확인\n",
    "print(\"학습용 세트 결정계수: {:.3f}\".format(model.score(X_train, y_train)))\n",
    "print(\"테스트 세트 결정계수: {:.3f}\".format(model.score(X_test, y_test)))"
   ]
  },
  {
   "cell_type": "code",
   "execution_count": null,
   "id": "ad9320fd",
   "metadata": {},
   "outputs": [],
   "source": []
  }
 ],
 "metadata": {
  "kernelspec": {
   "display_name": "Python 3 (ipykernel)",
   "language": "python",
   "name": "python3"
  },
  "language_info": {
   "codemirror_mode": {
    "name": "ipython",
    "version": 3
   },
   "file_extension": ".py",
   "mimetype": "text/x-python",
   "name": "python",
   "nbconvert_exporter": "python",
   "pygments_lexer": "ipython3",
   "version": "3.9.12"
  }
 },
 "nbformat": 4,
 "nbformat_minor": 5
}
