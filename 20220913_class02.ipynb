{
 "cells": [
  {
   "cell_type": "code",
   "execution_count": 3,
   "metadata": {
    "_cell_guid": "b1076dfc-b9ad-4769-8c92-a6c4dae69d19",
    "_uuid": "8f2839f25d086af736a60e9eeb907d3b93b6e0e5",
    "execution": {
     "iopub.execute_input": "2022-09-13T02:35:12.602858Z",
     "iopub.status.busy": "2022-09-13T02:35:12.602473Z",
     "iopub.status.idle": "2022-09-13T02:35:12.611318Z",
     "shell.execute_reply": "2022-09-13T02:35:12.610218Z",
     "shell.execute_reply.started": "2022-09-13T02:35:12.602822Z"
    }
   },
   "outputs": [],
   "source": [
    "import numpy as np # linear algebra\n",
    "import pandas as pd # data processing, CSV file I/O (e.g. pd.read_csv)\n",
    "\n",
    "import os\n",
    "for dirname, _, filenames in os.walk('/kaggle/input'):\n",
    "    for filename in filenames:\n",
    "        print(os.path.join(dirname, filename))\n"
   ]
  },
  {
   "cell_type": "code",
   "execution_count": 4,
   "metadata": {
    "execution": {
     "iopub.execute_input": "2022-09-13T02:36:07.963034Z",
     "iopub.status.busy": "2022-09-13T02:36:07.962603Z",
     "iopub.status.idle": "2022-09-13T02:36:08.011282Z",
     "shell.execute_reply": "2022-09-13T02:36:08.010301Z",
     "shell.execute_reply.started": "2022-09-13T02:36:07.962999Z"
    }
   },
   "outputs": [],
   "source": [
    "train = pd.read_csv(\"/kaggle/input/titanic/train.csv\")\n",
    "train.info()"
   ]
  },
  {
   "cell_type": "code",
   "execution_count": 5,
   "metadata": {
    "execution": {
     "iopub.execute_input": "2022-09-13T02:38:10.439182Z",
     "iopub.status.busy": "2022-09-13T02:38:10.438752Z",
     "iopub.status.idle": "2022-09-13T02:38:10.447250Z",
     "shell.execute_reply": "2022-09-13T02:38:10.446196Z",
     "shell.execute_reply.started": "2022-09-13T02:38:10.439147Z"
    }
   },
   "outputs": [],
   "source": [
    "import matplotlib.pyplot as plt\n",
    "import matplotlib\n",
    "\n",
    "print(matplotlib.__version__)"
   ]
  },
  {
   "cell_type": "code",
   "execution_count": 6,
   "metadata": {
    "execution": {
     "iopub.execute_input": "2022-09-13T02:39:27.787575Z",
     "iopub.status.busy": "2022-09-13T02:39:27.786763Z",
     "iopub.status.idle": "2022-09-13T02:39:27.875432Z",
     "shell.execute_reply": "2022-09-13T02:39:27.874065Z",
     "shell.execute_reply.started": "2022-09-13T02:39:27.787523Z"
    }
   },
   "outputs": [],
   "source": [
    "train"
   ]
  },
  {
   "cell_type": "code",
   "execution_count": 9,
   "metadata": {
    "execution": {
     "iopub.execute_input": "2022-09-13T02:42:34.065688Z",
     "iopub.status.busy": "2022-09-13T02:42:34.064490Z",
     "iopub.status.idle": "2022-09-13T02:42:34.078863Z",
     "shell.execute_reply": "2022-09-13T02:42:34.077717Z",
     "shell.execute_reply.started": "2022-09-13T02:42:34.065641Z"
    }
   },
   "outputs": [],
   "source": [
    "train['Age']"
   ]
  },
  {
   "cell_type": "code",
   "execution_count": 8,
   "metadata": {
    "execution": {
     "iopub.execute_input": "2022-09-13T02:40:56.811593Z",
     "iopub.status.busy": "2022-09-13T02:40:56.811192Z",
     "iopub.status.idle": "2022-09-13T02:40:57.039692Z",
     "shell.execute_reply": "2022-09-13T02:40:57.038483Z",
     "shell.execute_reply.started": "2022-09-13T02:40:56.811563Z"
    }
   },
   "outputs": [],
   "source": [
    "### plot 해보기\n",
    "plt.plot(train['Pclass'], 'o')"
   ]
  },
  {
   "cell_type": "code",
   "execution_count": 10,
   "metadata": {
    "execution": {
     "iopub.execute_input": "2022-09-13T02:43:43.978707Z",
     "iopub.status.busy": "2022-09-13T02:43:43.978158Z",
     "iopub.status.idle": "2022-09-13T02:43:43.996432Z",
     "shell.execute_reply": "2022-09-13T02:43:43.994770Z",
     "shell.execute_reply.started": "2022-09-13T02:43:43.978656Z"
    }
   },
   "outputs": [],
   "source": [
    "train.info()"
   ]
  },
  {
   "cell_type": "code",
   "execution_count": 11,
   "metadata": {
    "execution": {
     "iopub.execute_input": "2022-09-13T02:43:52.913652Z",
     "iopub.status.busy": "2022-09-13T02:43:52.913117Z",
     "iopub.status.idle": "2022-09-13T02:43:52.937171Z",
     "shell.execute_reply": "2022-09-13T02:43:52.935999Z",
     "shell.execute_reply.started": "2022-09-13T02:43:52.913603Z"
    }
   },
   "outputs": [],
   "source": [
    "train.head()"
   ]
  },
  {
   "cell_type": "code",
   "execution_count": 12,
   "metadata": {
    "execution": {
     "iopub.execute_input": "2022-09-13T02:44:51.346910Z",
     "iopub.status.busy": "2022-09-13T02:44:51.345962Z",
     "iopub.status.idle": "2022-09-13T02:44:51.554896Z",
     "shell.execute_reply": "2022-09-13T02:44:51.553504Z",
     "shell.execute_reply.started": "2022-09-13T02:44:51.346867Z"
    }
   },
   "outputs": [],
   "source": [
    "### plot 해보기\n",
    "plt.plot(train['Pclass'], 'o', linestyle='--')"
   ]
  },
  {
   "cell_type": "code",
   "execution_count": 16,
   "metadata": {
    "execution": {
     "iopub.execute_input": "2022-09-13T02:46:24.727672Z",
     "iopub.status.busy": "2022-09-13T02:46:24.727232Z",
     "iopub.status.idle": "2022-09-13T02:46:24.912280Z",
     "shell.execute_reply": "2022-09-13T02:46:24.911014Z",
     "shell.execute_reply.started": "2022-09-13T02:46:24.727636Z"
    }
   },
   "outputs": [],
   "source": [
    "# 그래프 사이즈를 키우기\n",
    "fig = plt.figure(figsize=(15,7))\n",
    "plt.plot(train['Pclass'], 'ro')"
   ]
  },
  {
   "cell_type": "code",
   "execution_count": 17,
   "metadata": {
    "execution": {
     "iopub.execute_input": "2022-09-13T02:46:52.861589Z",
     "iopub.status.busy": "2022-09-13T02:46:52.861151Z",
     "iopub.status.idle": "2022-09-13T02:46:53.048642Z",
     "shell.execute_reply": "2022-09-13T02:46:53.047647Z",
     "shell.execute_reply.started": "2022-09-13T02:46:52.861553Z"
    }
   },
   "outputs": [],
   "source": [
    "### 마커 변경해 보기\n",
    "# 그래프 사이즈를 키우기\n",
    "fig = plt.figure(figsize=(15,7))\n",
    "plt.plot(train['Pclass'], 'rv')"
   ]
  },
  {
   "cell_type": "code",
   "execution_count": 22,
   "metadata": {
    "execution": {
     "iopub.execute_input": "2022-09-13T02:49:23.663582Z",
     "iopub.status.busy": "2022-09-13T02:49:23.663177Z",
     "iopub.status.idle": "2022-09-13T02:49:23.684676Z",
     "shell.execute_reply": "2022-09-13T02:49:23.683288Z",
     "shell.execute_reply.started": "2022-09-13T02:49:23.663550Z"
    }
   },
   "outputs": [],
   "source": [
    "train.head()"
   ]
  },
  {
   "cell_type": "markdown",
   "metadata": {},
   "source": [
    "### 여러개의 그래프 그려보기\n"
   ]
  },
  {
   "cell_type": "code",
   "execution_count": 25,
   "metadata": {
    "execution": {
     "iopub.execute_input": "2022-09-13T02:53:49.833767Z",
     "iopub.status.busy": "2022-09-13T02:53:49.833363Z",
     "iopub.status.idle": "2022-09-13T02:53:50.187899Z",
     "shell.execute_reply": "2022-09-13T02:53:50.186723Z",
     "shell.execute_reply.started": "2022-09-13T02:53:49.833732Z"
    }
   },
   "outputs": [],
   "source": [
    "fig, axs = plt.subplots(1,2, figsize=(10,7))\n",
    "axs[0].plot(train['Pclass'], 'rv')\n",
    "axs[1].hist(train['Survived'])"
   ]
  },
  {
   "cell_type": "markdown",
   "metadata": {
    "execution": {
     "iopub.execute_input": "2022-09-13T02:54:21.612582Z",
     "iopub.status.busy": "2022-09-13T02:54:21.612109Z",
     "iopub.status.idle": "2022-09-13T02:54:21.619615Z",
     "shell.execute_reply": "2022-09-13T02:54:21.617931Z",
     "shell.execute_reply.started": "2022-09-13T02:54:21.612538Z"
    }
   },
   "source": [
    "* 알게된 사실 \n",
    "  * 0(사망), 1(생존) : 사망한 사람이 생존한 사람보다 1.5배 정도 많다."
   ]
  },
  {
   "cell_type": "code",
   "execution_count": 30,
   "metadata": {
    "execution": {
     "iopub.execute_input": "2022-09-13T03:05:13.824606Z",
     "iopub.status.busy": "2022-09-13T03:05:13.824162Z",
     "iopub.status.idle": "2022-09-13T03:05:14.239431Z",
     "shell.execute_reply": "2022-09-13T03:05:14.238052Z",
     "shell.execute_reply.started": "2022-09-13T03:05:13.824572Z"
    }
   },
   "outputs": [],
   "source": [
    "### 범례 표시해 보기\n",
    "fig, axs = plt.subplots(1,2, figsize=(10,7))\n",
    "axs[0].plot(train['Pclass'], 'rv', label=\"Pclass\")\n",
    "axs[0].legend()\n",
    "axs[1].hist(train['Survived'], label=\"Survived\")\n",
    "axs[1].legend()"
   ]
  },
  {
   "cell_type": "code",
   "execution_count": null,
   "metadata": {},
   "outputs": [],
   "source": []
  }
 ],
 "metadata": {
  "kernelspec": {
   "display_name": "Python 3 (ipykernel)",
   "language": "python",
   "name": "python3"
  },
  "language_info": {
   "codemirror_mode": {
    "name": "ipython",
    "version": 3
   },
   "file_extension": ".py",
   "mimetype": "text/x-python",
   "name": "python",
   "nbconvert_exporter": "python",
   "pygments_lexer": "ipython3",
   "version": "3.9.12"
  }
 },
 "nbformat": 4,
 "nbformat_minor": 4
}
