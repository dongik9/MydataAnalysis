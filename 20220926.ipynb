{
 "cells": [
  {
   "cell_type": "code",
   "execution_count": 6,
   "id": "b31f842f",
   "metadata": {},
   "outputs": [
    {
     "data": {
      "text/plain": [
       "array([2, 2, 2, 2, 2, 3, 2, 2, 2, 2, 4, 2, 2, 2, 2, 2, 1, 5, 4, 4, 4, 4,\n",
       "       2, 4], dtype=int64)"
      ]
     },
     "execution_count": 6,
     "metadata": {},
     "output_type": "execute_result"
    }
   ],
   "source": [
    "from sklearn.ensemble import RandomForestClassifier\n",
    "\n",
    "model = RandomForestClassifier() # 모델 만들기\n",
    "model.fit(X, y)     # 모델 훈련시키기  model.fit(입력, 출력)\n",
    "pred = model.predict(test_X)    # 학습된 모델로 예측하기\n",
    "pred"
   ]
  },
  {
   "cell_type": "code",
   "execution_count": 50,
   "id": "635c9cd0",
   "metadata": {
    "scrolled": false
   },
   "outputs": [
    {
     "name": "stdout",
     "output_type": "stream",
     "text": [
      "<class 'pandas.core.frame.DataFrame'>\n",
      "RangeIndex: 244 entries, 0 to 243\n",
      "Data columns (total 7 columns):\n",
      " #   Column      Non-Null Count  Dtype   \n",
      "---  ------      --------------  -----   \n",
      " 0   total_bill  244 non-null    float64 \n",
      " 1   tip         244 non-null    float64 \n",
      " 2   sex         244 non-null    category\n",
      " 3   smoker      244 non-null    category\n",
      " 4   day         244 non-null    category\n",
      " 5   time        244 non-null    category\n",
      " 6   size        244 non-null    int64   \n",
      "dtypes: category(4), float64(2), int64(1)\n",
      "memory usage: 7.4 KB\n",
      "None\n",
      "   total_bill   tip     sex smoker  day    time  size\n",
      "0       16.99  1.01  Female     No  Sun  Dinner     2\n",
      "1       10.34  1.66    Male     No  Sun  Dinner     3\n",
      "2       21.01  3.50    Male     No  Sun  Dinner     3\n",
      "3       23.68  3.31    Male     No  Sun  Dinner     2\n",
      "4       24.59  3.61  Female     No  Sun  Dinner     4\n",
      "['Sun', 'Sat', 'Thur', 'Fri']\n",
      "Categories (4, object): ['Thur', 'Fri', 'Sat', 'Sun']\n",
      "['Dinner', 'Lunch']\n",
      "Categories (2, object): ['Lunch', 'Dinner']\n",
      "(220, 7) (24, 6)\n",
      "Index(['total_bill', 'tip', 'sex', 'smoker', 'day', 'time', 'size'], dtype='object') Index(['total_bill', 'tip', 'sex', 'smoker', 'day', 'time'], dtype='object')\n",
      "[2 2 2 2 2 2 2 2 2 2 2 2 2 2 2 2 2 3 4 4 2 2 2 2]\n"
     ]
    },
    {
     "name": "stderr",
     "output_type": "stream",
     "text": [
      "C:\\Users\\AI02\\AppData\\Local\\Temp\\ipykernel_13432\\4114161028.py:26: SettingWithCopyWarning: \n",
      "A value is trying to be set on a copy of a slice from a DataFrame\n",
      "\n",
      "See the caveats in the documentation: https://pandas.pydata.org/pandas-docs/stable/user_guide/indexing.html#returning-a-view-versus-a-copy\n",
      "  tips_new.drop(['size'], axis=1, inplace=True)\n"
     ]
    }
   ],
   "source": [
    "import seaborn as sns\n",
    "\n",
    "tips = sns.load_dataset(\"tips\")\n",
    "print( tips.info() )\n",
    "print( tips.head() )\n",
    "\n",
    "# 데이터를 나누기 전에 sex 데이터를 숫자로 변경. 머신러닝이 이해할 수 있게 하기 위해서.\n",
    "# 변경열선택.map( 어떻게 변경하겠다. ).astype(자료형)\n",
    "\n",
    "sex_dict = {'Female':0, 'Male':1} #딕셔너리 형태로 들어옴\n",
    "tips['sex'] = tips['sex'].map(sex_dict).astype(int)\n",
    "\n",
    "# day 라벨 인코딩 - 문자열을 숫자로 벽녕\n",
    "print( tips['day'].unique() ) #중복제외한 값 출력\n",
    "day_dict = { 'Thur':0, 'Fri':1, 'Sat':2, 'Sun':3 }\n",
    "tips['day'] = tips['day'].map(day_dict).astype(int)\n",
    "\n",
    "# time 라벨 인코딩 - 문자열을 숫자로 벽녕\n",
    "print( tips['time'].unique() ) #중복제외한 값 출력\n",
    "time_dict = { 'Lunch':0, 'Dinner':1 }\n",
    "tips['time'] = tips['time'].map(time_dict).astype(int)\n",
    "\n",
    "tips_have = tips.iloc[ 0:220 , : ]\n",
    "tips_new = tips.iloc[ 220: ,  :]\n",
    "\n",
    "tips_new.drop(['size'], axis=1, inplace=True)\n",
    "print( tips_have.shape, tips_new.shape )\n",
    "print( tips_have.columns, tips_new.columns)\n",
    "\n",
    "sel = ['total_bill', 'tip', 'sex', 'day']\n",
    "\n",
    "X = tips_have[sel]\n",
    "y = tips_have['size']  # 우리가 예측할 컬럼(변수)\n",
    "test_X = tips_new[sel]       # 예측할 친구는 다른 데이터 셋\n",
    "\n",
    "from sklearn.ensemble import RandomForestClassifier\n",
    "\n",
    "model = RandomForestClassifier() # 모델 만들기\n",
    "model.fit(X, y)     # 모델 훈련시키기  model.fit(입력, 출력)\n",
    "pred = model.predict(test_X)    # 학습된 모델로 예측하기\n",
    "print( pred )"
   ]
  },
  {
   "cell_type": "code",
   "execution_count": 51,
   "id": "38e36269",
   "metadata": {},
   "outputs": [],
   "source": [
    "from sklearn.model_selection import train_test_split\n",
    "X_train, X_test, y_train, y_test = train_test_split(X, y,\n",
    "                                            random_state=0 )"
   ]
  },
  {
   "cell_type": "code",
   "execution_count": 52,
   "id": "2ce36ffc",
   "metadata": {},
   "outputs": [],
   "source": [
    "import seaborn as sns\n",
    "import numpy as np\n",
    "from sklearn.ensemble import RandomForestClassifier\n",
    "from sklearn.model_selection import train_test_split"
   ]
  },
  {
   "cell_type": "code",
   "execution_count": 53,
   "id": "708c620a",
   "metadata": {},
   "outputs": [
    {
     "name": "stdout",
     "output_type": "stream",
     "text": [
      "자체 평가 예측 정확도 :  31.0\n"
     ]
    }
   ],
   "source": [
    "model = RandomForestClassifier()\n",
    "model.fit(X_train, y_train)\n",
    "pred = model.predict(X_test)\n",
    "print(\"자체 평가 예측 정확도 : \", np.mean(  (pred==y_test).sum()  ) )"
   ]
  },
  {
   "cell_type": "code",
   "execution_count": 54,
   "id": "328da202",
   "metadata": {},
   "outputs": [
    {
     "name": "stdout",
     "output_type": "stream",
     "text": [
      "트리의 개수: 10\n",
      "자체 평가 학습용 정확도 :  0.9757575757575757\n",
      "자체 평가 예측 정확도 :  31.0\n",
      "트리의 개수: 100\n",
      "자체 평가 학습용 정확도 :  1.0\n",
      "자체 평가 예측 정확도 :  30.0\n",
      "트리의 개수: 500\n",
      "자체 평가 학습용 정확도 :  1.0\n",
      "자체 평가 예측 정확도 :  30.0\n"
     ]
    }
   ],
   "source": [
    "e_est_num = [10, 100, 500]\n",
    "for nums in e_est_num:\n",
    "    model = RandomForestClassifier(n_estimators=nums, n_jobs=1)\n",
    "    model.fit(X_train, y_train)\n",
    "    pred = model.predict(X_test)\n",
    "    \n",
    "    print(\"트리의 개수:\", nums)\n",
    "    print(\"자체 평가 학습용 정확도 : \", model.score(X_train, y_train) )\n",
    "    print(\"자체 평가 예측 정확도 : \", np.mean((pred == y_test).sum()))"
   ]
  },
  {
   "cell_type": "code",
   "execution_count": null,
   "id": "fd661659",
   "metadata": {},
   "outputs": [],
   "source": []
  }
 ],
 "metadata": {
  "kernelspec": {
   "display_name": "Python 3 (ipykernel)",
   "language": "python",
   "name": "python3"
  },
  "language_info": {
   "codemirror_mode": {
    "name": "ipython",
    "version": 3
   },
   "file_extension": ".py",
   "mimetype": "text/x-python",
   "name": "python",
   "nbconvert_exporter": "python",
   "pygments_lexer": "ipython3",
   "version": "3.9.12"
  }
 },
 "nbformat": 4,
 "nbformat_minor": 5
}
