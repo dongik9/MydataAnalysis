{
 "cells": [
  {
   "cell_type": "code",
   "execution_count": 2,
   "metadata": {
    "_cell_guid": "b1076dfc-b9ad-4769-8c92-a6c4dae69d19",
    "_uuid": "8f2839f25d086af736a60e9eeb907d3b93b6e0e5",
    "execution": {
     "iopub.execute_input": "2022-09-19T01:11:14.395486Z",
     "iopub.status.busy": "2022-09-19T01:11:14.394246Z",
     "iopub.status.idle": "2022-09-19T01:11:14.429301Z",
     "shell.execute_reply": "2022-09-19T01:11:14.427912Z",
     "shell.execute_reply.started": "2022-09-19T01:11:14.395363Z"
    }
   },
   "outputs": [
    {
     "name": "stdout",
     "output_type": "stream",
     "text": [
      "./titanic\\gender_submission.csv\n",
      "./titanic\\test.csv\n",
      "./titanic\\train.csv\n"
     ]
    }
   ],
   "source": [
    "import numpy as np # linear algebra\n",
    "import pandas as pd # data processing, CSV file I/O (e.g. pd.read_csv)\n",
    "\n",
    "import os\n",
    "for dirname, _, filenames in os.walk('/kaggle/input'):\n",
    "    for filename in filenames:\n",
    "        print(os.path.join(dirname, filename))\n"
   ]
  },
  {
   "cell_type": "code",
   "execution_count": 3,
   "metadata": {
    "execution": {
     "iopub.execute_input": "2022-09-19T01:12:11.371546Z",
     "iopub.status.busy": "2022-09-19T01:12:11.371147Z",
     "iopub.status.idle": "2022-09-19T01:12:12.096481Z",
     "shell.execute_reply": "2022-09-19T01:12:12.095689Z",
     "shell.execute_reply.started": "2022-09-19T01:12:11.371512Z"
    }
   },
   "outputs": [],
   "source": [
    "import matplotlib.pyplot as plt\n",
    "import seaborn as sns\n",
    "\n",
    "from sklearn.model_selection import train_test_split"
   ]
  },
  {
   "cell_type": "code",
   "execution_count": 5,
   "metadata": {
    "execution": {
     "iopub.execute_input": "2022-09-19T01:14:09.929753Z",
     "iopub.status.busy": "2022-09-19T01:14:09.929190Z",
     "iopub.status.idle": "2022-09-19T01:14:09.999911Z",
     "shell.execute_reply": "2022-09-19T01:14:09.998686Z",
     "shell.execute_reply.started": "2022-09-19T01:14:09.929706Z"
    }
   },
   "outputs": [
    {
     "data": {
      "text/plain": [
       "((8693, 14), (4277, 13), (4277, 2))"
      ]
     },
     "execution_count": 5,
     "metadata": {},
     "output_type": "execute_result"
    }
   ],
   "source": [
    "# 데이터 불러오기\n",
    "\n",
    "train = pd.read_csv(\"/kaggle/input/spaceship-titanic/train.csv\")\n",
    "test = pd.read_csv(\"/kaggle/input/spaceship-titanic/test.csv\")\n",
    "sub = pd.read_csv(\"/kaggle/input/spaceship-titanic/sample_submission.csv\")\n",
    "\n",
    "train.shape, test.shape, sub.shape"
   ]
  },
  {
   "cell_type": "code",
   "execution_count": 6,
   "metadata": {
    "execution": {
     "iopub.execute_input": "2022-09-19T01:18:49.858796Z",
     "iopub.status.busy": "2022-09-19T01:18:49.858379Z",
     "iopub.status.idle": "2022-09-19T01:18:49.866412Z",
     "shell.execute_reply": "2022-09-19T01:18:49.865044Z",
     "shell.execute_reply.started": "2022-09-19T01:18:49.858761Z"
    }
   },
   "outputs": [
    {
     "name": "stdout",
     "output_type": "stream",
     "text": [
      "Index(['PassengerId', 'HomePlanet', 'CryoSleep', 'Cabin', 'Destination', 'Age',\n",
      "       'VIP', 'RoomService', 'FoodCourt', 'ShoppingMall', 'Spa', 'VRDeck',\n",
      "       'Name', 'Transported'],\n",
      "      dtype='object')\n",
      "Index(['PassengerId', 'HomePlanet', 'CryoSleep', 'Cabin', 'Destination', 'Age',\n",
      "       'VIP', 'RoomService', 'FoodCourt', 'ShoppingMall', 'Spa', 'VRDeck',\n",
      "       'Name'],\n",
      "      dtype='object')\n"
     ]
    }
   ],
   "source": [
    "print(train.columns)\n",
    "print(test.columns)"
   ]
  },
  {
   "cell_type": "code",
   "execution_count": 8,
   "metadata": {
    "execution": {
     "iopub.execute_input": "2022-09-19T01:19:40.472464Z",
     "iopub.status.busy": "2022-09-19T01:19:40.471647Z",
     "iopub.status.idle": "2022-09-19T01:19:40.484193Z",
     "shell.execute_reply": "2022-09-19T01:19:40.483043Z",
     "shell.execute_reply.started": "2022-09-19T01:19:40.472431Z"
    }
   },
   "outputs": [
    {
     "data": {
      "text/plain": [
       "array([False,  True])"
      ]
     },
     "execution_count": 8,
     "metadata": {},
     "output_type": "execute_result"
    }
   ],
   "source": [
    "train['Transported'].unique()"
   ]
  },
  {
   "cell_type": "code",
   "execution_count": 9,
   "metadata": {
    "execution": {
     "iopub.execute_input": "2022-09-19T01:20:08.156162Z",
     "iopub.status.busy": "2022-09-19T01:20:08.155619Z",
     "iopub.status.idle": "2022-09-19T01:20:08.184941Z",
     "shell.execute_reply": "2022-09-19T01:20:08.183563Z",
     "shell.execute_reply.started": "2022-09-19T01:20:08.156113Z"
    }
   },
   "outputs": [
    {
     "name": "stdout",
     "output_type": "stream",
     "text": [
      "<class 'pandas.core.frame.DataFrame'>\n",
      "RangeIndex: 8693 entries, 0 to 8692\n",
      "Data columns (total 14 columns):\n",
      " #   Column        Non-Null Count  Dtype  \n",
      "---  ------        --------------  -----  \n",
      " 0   PassengerId   8693 non-null   object \n",
      " 1   HomePlanet    8492 non-null   object \n",
      " 2   CryoSleep     8476 non-null   object \n",
      " 3   Cabin         8494 non-null   object \n",
      " 4   Destination   8511 non-null   object \n",
      " 5   Age           8514 non-null   float64\n",
      " 6   VIP           8490 non-null   object \n",
      " 7   RoomService   8512 non-null   float64\n",
      " 8   FoodCourt     8510 non-null   float64\n",
      " 9   ShoppingMall  8485 non-null   float64\n",
      " 10  Spa           8510 non-null   float64\n",
      " 11  VRDeck        8505 non-null   float64\n",
      " 12  Name          8493 non-null   object \n",
      " 13  Transported   8693 non-null   bool   \n",
      "dtypes: bool(1), float64(6), object(7)\n",
      "memory usage: 891.5+ KB\n"
     ]
    }
   ],
   "source": [
    "train.info()"
   ]
  },
  {
   "cell_type": "code",
   "execution_count": 10,
   "metadata": {
    "execution": {
     "iopub.execute_input": "2022-09-19T01:20:13.004602Z",
     "iopub.status.busy": "2022-09-19T01:20:13.004185Z",
     "iopub.status.idle": "2022-09-19T01:20:13.021345Z",
     "shell.execute_reply": "2022-09-19T01:20:13.020278Z",
     "shell.execute_reply.started": "2022-09-19T01:20:13.004567Z"
    }
   },
   "outputs": [
    {
     "name": "stdout",
     "output_type": "stream",
     "text": [
      "<class 'pandas.core.frame.DataFrame'>\n",
      "RangeIndex: 4277 entries, 0 to 4276\n",
      "Data columns (total 13 columns):\n",
      " #   Column        Non-Null Count  Dtype  \n",
      "---  ------        --------------  -----  \n",
      " 0   PassengerId   4277 non-null   object \n",
      " 1   HomePlanet    4190 non-null   object \n",
      " 2   CryoSleep     4184 non-null   object \n",
      " 3   Cabin         4177 non-null   object \n",
      " 4   Destination   4185 non-null   object \n",
      " 5   Age           4186 non-null   float64\n",
      " 6   VIP           4184 non-null   object \n",
      " 7   RoomService   4195 non-null   float64\n",
      " 8   FoodCourt     4171 non-null   float64\n",
      " 9   ShoppingMall  4179 non-null   float64\n",
      " 10  Spa           4176 non-null   float64\n",
      " 11  VRDeck        4197 non-null   float64\n",
      " 12  Name          4183 non-null   object \n",
      "dtypes: float64(6), object(7)\n",
      "memory usage: 434.5+ KB\n"
     ]
    }
   ],
   "source": [
    "test.info()"
   ]
  },
  {
   "cell_type": "code",
   "execution_count": 11,
   "metadata": {
    "execution": {
     "iopub.execute_input": "2022-09-19T01:20:41.101367Z",
     "iopub.status.busy": "2022-09-19T01:20:41.100699Z",
     "iopub.status.idle": "2022-09-19T01:20:41.118704Z",
     "shell.execute_reply": "2022-09-19T01:20:41.117570Z",
     "shell.execute_reply.started": "2022-09-19T01:20:41.101314Z"
    }
   },
   "outputs": [
    {
     "data": {
      "text/plain": [
       "PassengerId       0\n",
       "HomePlanet      201\n",
       "CryoSleep       217\n",
       "Cabin           199\n",
       "Destination     182\n",
       "Age             179\n",
       "VIP             203\n",
       "RoomService     181\n",
       "FoodCourt       183\n",
       "ShoppingMall    208\n",
       "Spa             183\n",
       "VRDeck          188\n",
       "Name            200\n",
       "Transported       0\n",
       "dtype: int64"
      ]
     },
     "execution_count": 11,
     "metadata": {},
     "output_type": "execute_result"
    }
   ],
   "source": [
    "train.isnull().sum()"
   ]
  },
  {
   "cell_type": "code",
   "execution_count": 12,
   "metadata": {
    "execution": {
     "iopub.execute_input": "2022-09-19T01:20:47.692675Z",
     "iopub.status.busy": "2022-09-19T01:20:47.692247Z",
     "iopub.status.idle": "2022-09-19T01:20:47.706155Z",
     "shell.execute_reply": "2022-09-19T01:20:47.704828Z",
     "shell.execute_reply.started": "2022-09-19T01:20:47.692641Z"
    }
   },
   "outputs": [
    {
     "data": {
      "text/plain": [
       "PassengerId       0\n",
       "HomePlanet       87\n",
       "CryoSleep        93\n",
       "Cabin           100\n",
       "Destination      92\n",
       "Age              91\n",
       "VIP              93\n",
       "RoomService      82\n",
       "FoodCourt       106\n",
       "ShoppingMall     98\n",
       "Spa             101\n",
       "VRDeck           80\n",
       "Name             94\n",
       "dtype: int64"
      ]
     },
     "execution_count": 12,
     "metadata": {},
     "output_type": "execute_result"
    }
   ],
   "source": [
    "test.isnull().sum()"
   ]
  },
  {
   "cell_type": "code",
   "execution_count": 14,
   "metadata": {
    "execution": {
     "iopub.execute_input": "2022-09-19T01:23:14.935877Z",
     "iopub.status.busy": "2022-09-19T01:23:14.934802Z",
     "iopub.status.idle": "2022-09-19T01:23:15.095956Z",
     "shell.execute_reply": "2022-09-19T01:23:15.094173Z",
     "shell.execute_reply.started": "2022-09-19T01:23:14.935833Z"
    }
   },
   "outputs": [
    {
     "data": {
      "text/plain": [
       "<AxesSubplot:xlabel='Transported', ylabel='count'>"
      ]
     },
     "execution_count": 14,
     "metadata": {},
     "output_type": "execute_result"
    },
    {
     "data": {
      "image/png": "[encoded data removed]",
      "text/plain": [
       "<Figure size 432x288 with 1 Axes>"
      ]
     },
     "metadata": {
      "needs_background": "light"
     },
     "output_type": "display_data"
    }
   ],
   "source": [
    "# 예측할 특징은 transported\n",
    "\n",
    "sns.countplot(x='Transported', data=train)"
   ]
  },
  {
   "cell_type": "code",
   "execution_count": 16,
   "metadata": {
    "execution": {
     "iopub.execute_input": "2022-09-19T01:24:07.652265Z",
     "iopub.status.busy": "2022-09-19T01:24:07.651875Z",
     "iopub.status.idle": "2022-09-19T01:24:07.662896Z",
     "shell.execute_reply": "2022-09-19T01:24:07.661460Z",
     "shell.execute_reply.started": "2022-09-19T01:24:07.652233Z"
    }
   },
   "outputs": [
    {
     "data": {
      "text/plain": [
       "True     4378\n",
       "False    4315\n",
       "Name: Transported, dtype: int64"
      ]
     },
     "execution_count": 16,
     "metadata": {},
     "output_type": "execute_result"
    }
   ],
   "source": [
    "train['Transported'].value_counts()"
   ]
  },
  {
   "cell_type": "code",
   "execution_count": 17,
   "metadata": {
    "execution": {
     "iopub.execute_input": "2022-09-19T01:25:12.687476Z",
     "iopub.status.busy": "2022-09-19T01:25:12.687061Z",
     "iopub.status.idle": "2022-09-19T01:25:12.694724Z",
     "shell.execute_reply": "2022-09-19T01:25:12.693508Z",
     "shell.execute_reply.started": "2022-09-19T01:25:12.687441Z"
    }
   },
   "outputs": [
    {
     "data": {
      "text/plain": [
       "Index(['PassengerId', 'HomePlanet', 'CryoSleep', 'Cabin', 'Destination', 'Age',\n",
       "       'VIP', 'RoomService', 'FoodCourt', 'ShoppingMall', 'Spa', 'VRDeck',\n",
       "       'Name', 'Transported'],\n",
       "      dtype='object')"
      ]
     },
     "execution_count": 17,
     "metadata": {},
     "output_type": "execute_result"
    }
   ],
   "source": [
    "train.columns"
   ]
  },
  {
   "cell_type": "code",
   "execution_count": 19,
   "metadata": {
    "execution": {
     "iopub.execute_input": "2022-09-19T01:27:52.835720Z",
     "iopub.status.busy": "2022-09-19T01:27:52.835319Z",
     "iopub.status.idle": "2022-09-19T01:27:52.859611Z",
     "shell.execute_reply": "2022-09-19T01:27:52.858845Z",
     "shell.execute_reply.started": "2022-09-19T01:27:52.835686Z"
    }
   },
   "outputs": [
    {
     "name": "stdout",
     "output_type": "stream",
     "text": [
      "컬럼명 :  PassengerId\n",
      "유일한 값의 길이 및 실제값 :  8693 ['0001_01' '0002_01' '0003_01' ... '9279_01' '9280_01' '9280_02']\n",
      "컬럼명 :  HomePlanet\n",
      "유일한 값의 길이 및 실제값 :  4 ['Europa' 'Earth' 'Mars' nan]\n",
      "컬럼명 :  CryoSleep\n",
      "유일한 값의 길이 및 실제값 :  3 [False True nan]\n",
      "컬럼명 :  Cabin\n",
      "유일한 값의 길이 및 실제값 :  6561 ['B/0/P' 'F/0/S' 'A/0/S' ... 'G/1499/S' 'G/1500/S' 'E/608/S']\n",
      "컬럼명 :  Destination\n",
      "유일한 값의 길이 및 실제값 :  4 ['TRAPPIST-1e' 'PSO J318.5-22' '55 Cancri e' nan]\n",
      "컬럼명 :  Age\n",
      "유일한 값의 길이 및 실제값 :  81 [39. 24. 58. 33. 16. 44. 26. 28. 35. 14. 34. 45. 32. 48. 31. 27.  0.  1.\n",
      " 49. 29. 10.  7. 21. 62. 15. 43. 47.  2. 20. 23. 30. 17. 55.  4. 19. 56.\n",
      " nan 25. 38. 36. 22. 18. 42. 37. 13.  8. 40.  3. 54.  9.  6. 64. 67. 61.\n",
      " 50. 41. 57. 11. 52. 51. 46. 60. 63. 59.  5. 79. 68. 74. 12. 53. 65. 71.\n",
      " 75. 70. 76. 78. 73. 66. 69. 72. 77.]\n",
      "컬럼명 :  VIP\n",
      "유일한 값의 길이 및 실제값 :  3 [False True nan]\n",
      "컬럼명 :  RoomService\n",
      "유일한 값의 길이 및 실제값 :  1274 [   0.  109.   43. ... 1569. 8586.  745.]\n",
      "컬럼명 :  FoodCourt\n",
      "유일한 값의 길이 및 실제값 :  1508 [   0.    9. 3576. ... 3208. 6819. 4688.]\n",
      "컬럼명 :  ShoppingMall\n",
      "유일한 값의 길이 및 실제값 :  1116 [   0.   25.  371. ... 1085.  510. 1872.]\n",
      "컬럼명 :  Spa\n",
      "유일한 값의 길이 및 실제값 :  1328 [   0.  549. 6715. ... 2868. 1107. 1643.]\n",
      "컬럼명 :  VRDeck\n",
      "유일한 값의 길이 및 실제값 :  1307 [   0.   44.   49. ... 1164.  971. 3235.]\n",
      "컬럼명 :  Name\n",
      "유일한 값의 길이 및 실제값 :  8474 ['Maham Ofracculy' 'Juanna Vines' 'Altark Susent' ... 'Fayey Connon'\n",
      " 'Celeon Hontichre' 'Propsh Hontichre']\n",
      "컬럼명 :  Transported\n",
      "유일한 값의 길이 및 실제값 :  2 [False  True]\n"
     ]
    }
   ],
   "source": [
    "for one in train.columns:\n",
    "    print(\"컬럼명 : \", one)\n",
    "    print(\"유일한 값의 길이 및 실제값 : \", len(train[one].unique()), train[one].unique() )"
   ]
  },
  {
   "cell_type": "code",
   "execution_count": 20,
   "metadata": {
    "execution": {
     "iopub.execute_input": "2022-09-19T01:30:00.466116Z",
     "iopub.status.busy": "2022-09-19T01:30:00.465406Z",
     "iopub.status.idle": "2022-09-19T01:30:00.492096Z",
     "shell.execute_reply": "2022-09-19T01:30:00.490892Z",
     "shell.execute_reply.started": "2022-09-19T01:30:00.466070Z"
    }
   },
   "outputs": [
    {
     "data": {
      "text/html": [
       "<div>\n",
       "<style scoped>\n",
       "    .dataframe tbody tr th:only-of-type {\n",
       "        vertical-align: middle;\n",
       "    }\n",
       "\n",
       "    .dataframe tbody tr th {\n",
       "        vertical-align: top;\n",
       "    }\n",
       "\n",
       "    .dataframe thead th {\n",
       "        text-align: right;\n",
       "    }\n",
       "</style>\n",
       "<table border=\"1\" class=\"dataframe\">\n",
       "  <thead>\n",
       "    <tr style=\"text-align: right;\">\n",
       "      <th></th>\n",
       "      <th>PassengerId</th>\n",
       "      <th>HomePlanet</th>\n",
       "      <th>CryoSleep</th>\n",
       "      <th>Cabin</th>\n",
       "      <th>Destination</th>\n",
       "      <th>Age</th>\n",
       "      <th>VIP</th>\n",
       "      <th>RoomService</th>\n",
       "      <th>FoodCourt</th>\n",
       "      <th>ShoppingMall</th>\n",
       "      <th>Spa</th>\n",
       "      <th>VRDeck</th>\n",
       "      <th>Name</th>\n",
       "      <th>Transported</th>\n",
       "    </tr>\n",
       "  </thead>\n",
       "  <tbody>\n",
       "    <tr>\n",
       "      <th>0</th>\n",
       "      <td>0001_01</td>\n",
       "      <td>Europa</td>\n",
       "      <td>False</td>\n",
       "      <td>B/0/P</td>\n",
       "      <td>TRAPPIST-1e</td>\n",
       "      <td>39.0</td>\n",
       "      <td>False</td>\n",
       "      <td>0.0</td>\n",
       "      <td>0.0</td>\n",
       "      <td>0.0</td>\n",
       "      <td>0.0</td>\n",
       "      <td>0.0</td>\n",
       "      <td>Maham Ofracculy</td>\n",
       "      <td>False</td>\n",
       "    </tr>\n",
       "    <tr>\n",
       "      <th>1</th>\n",
       "      <td>0002_01</td>\n",
       "      <td>Earth</td>\n",
       "      <td>False</td>\n",
       "      <td>F/0/S</td>\n",
       "      <td>TRAPPIST-1e</td>\n",
       "      <td>24.0</td>\n",
       "      <td>False</td>\n",
       "      <td>109.0</td>\n",
       "      <td>9.0</td>\n",
       "      <td>25.0</td>\n",
       "      <td>549.0</td>\n",
       "      <td>44.0</td>\n",
       "      <td>Juanna Vines</td>\n",
       "      <td>True</td>\n",
       "    </tr>\n",
       "    <tr>\n",
       "      <th>2</th>\n",
       "      <td>0003_01</td>\n",
       "      <td>Europa</td>\n",
       "      <td>False</td>\n",
       "      <td>A/0/S</td>\n",
       "      <td>TRAPPIST-1e</td>\n",
       "      <td>58.0</td>\n",
       "      <td>True</td>\n",
       "      <td>43.0</td>\n",
       "      <td>3576.0</td>\n",
       "      <td>0.0</td>\n",
       "      <td>6715.0</td>\n",
       "      <td>49.0</td>\n",
       "      <td>Altark Susent</td>\n",
       "      <td>False</td>\n",
       "    </tr>\n",
       "    <tr>\n",
       "      <th>3</th>\n",
       "      <td>0003_02</td>\n",
       "      <td>Europa</td>\n",
       "      <td>False</td>\n",
       "      <td>A/0/S</td>\n",
       "      <td>TRAPPIST-1e</td>\n",
       "      <td>33.0</td>\n",
       "      <td>False</td>\n",
       "      <td>0.0</td>\n",
       "      <td>1283.0</td>\n",
       "      <td>371.0</td>\n",
       "      <td>3329.0</td>\n",
       "      <td>193.0</td>\n",
       "      <td>Solam Susent</td>\n",
       "      <td>False</td>\n",
       "    </tr>\n",
       "    <tr>\n",
       "      <th>4</th>\n",
       "      <td>0004_01</td>\n",
       "      <td>Earth</td>\n",
       "      <td>False</td>\n",
       "      <td>F/1/S</td>\n",
       "      <td>TRAPPIST-1e</td>\n",
       "      <td>16.0</td>\n",
       "      <td>False</td>\n",
       "      <td>303.0</td>\n",
       "      <td>70.0</td>\n",
       "      <td>151.0</td>\n",
       "      <td>565.0</td>\n",
       "      <td>2.0</td>\n",
       "      <td>Willy Santantines</td>\n",
       "      <td>True</td>\n",
       "    </tr>\n",
       "  </tbody>\n",
       "</table>\n",
       "</div>"
      ],
      "text/plain": [
       "  PassengerId HomePlanet CryoSleep  Cabin  Destination   Age    VIP  \\\n",
       "0     0001_01     Europa     False  B/0/P  TRAPPIST-1e  39.0  False   \n",
       "1     0002_01      Earth     False  F/0/S  TRAPPIST-1e  24.0  False   \n",
       "2     0003_01     Europa     False  A/0/S  TRAPPIST-1e  58.0   True   \n",
       "3     0003_02     Europa     False  A/0/S  TRAPPIST-1e  33.0  False   \n",
       "4     0004_01      Earth     False  F/1/S  TRAPPIST-1e  16.0  False   \n",
       "\n",
       "   RoomService  FoodCourt  ShoppingMall     Spa  VRDeck               Name  \\\n",
       "0          0.0        0.0           0.0     0.0     0.0    Maham Ofracculy   \n",
       "1        109.0        9.0          25.0   549.0    44.0       Juanna Vines   \n",
       "2         43.0     3576.0           0.0  6715.0    49.0      Altark Susent   \n",
       "3          0.0     1283.0         371.0  3329.0   193.0       Solam Susent   \n",
       "4        303.0       70.0         151.0   565.0     2.0  Willy Santantines   \n",
       "\n",
       "   Transported  \n",
       "0        False  \n",
       "1         True  \n",
       "2        False  \n",
       "3        False  \n",
       "4         True  "
      ]
     },
     "execution_count": 20,
     "metadata": {},
     "output_type": "execute_result"
    }
   ],
   "source": [
    "train.head()"
   ]
  },
  {
   "cell_type": "code",
   "execution_count": 37,
   "metadata": {
    "execution": {
     "iopub.execute_input": "2022-09-19T01:46:08.247307Z",
     "iopub.status.busy": "2022-09-19T01:46:08.246719Z",
     "iopub.status.idle": "2022-09-19T01:46:08.273863Z",
     "shell.execute_reply": "2022-09-19T01:46:08.272774Z",
     "shell.execute_reply.started": "2022-09-19T01:46:08.247260Z"
    }
   },
   "outputs": [
    {
     "data": {
      "text/plain": [
       "PassengerId       0\n",
       "HomePlanet      201\n",
       "CryoSleep       217\n",
       "Cabin           199\n",
       "Destination     182\n",
       "Age               0\n",
       "VIP             203\n",
       "RoomService       0\n",
       "FoodCourt       183\n",
       "ShoppingMall      0\n",
       "Spa             183\n",
       "VRDeck          188\n",
       "Name            200\n",
       "Transported       0\n",
       "dtype: int64"
      ]
     },
     "execution_count": 37,
     "metadata": {},
     "output_type": "execute_result"
    }
   ],
   "source": [
    "train.loc[train['Age'].isnull(), 'Age'] = train['Age'].median()\n",
    "train.loc[train['RoomService'].isnull(), 'RoomService'] = train['RoomService'].median()\n",
    "train.loc[train['ShoppingMall'].isnull(), 'ShoppingMall'] = train['ShoppingMall'].median()\n",
    "\n",
    "train.isnull().sum()"
   ]
  },
  {
   "cell_type": "code",
   "execution_count": 38,
   "metadata": {
    "execution": {
     "iopub.execute_input": "2022-09-19T01:46:10.665429Z",
     "iopub.status.busy": "2022-09-19T01:46:10.664874Z",
     "iopub.status.idle": "2022-09-19T01:46:10.687702Z",
     "shell.execute_reply": "2022-09-19T01:46:10.686057Z",
     "shell.execute_reply.started": "2022-09-19T01:46:10.665381Z"
    }
   },
   "outputs": [
    {
     "data": {
      "text/plain": [
       "PassengerId       0\n",
       "HomePlanet       87\n",
       "CryoSleep        93\n",
       "Cabin           100\n",
       "Destination      92\n",
       "Age               0\n",
       "VIP              93\n",
       "RoomService       0\n",
       "FoodCourt       106\n",
       "ShoppingMall      0\n",
       "Spa             101\n",
       "VRDeck           80\n",
       "Name             94\n",
       "dtype: int64"
      ]
     },
     "execution_count": 38,
     "metadata": {},
     "output_type": "execute_result"
    }
   ],
   "source": [
    "test.loc[test['Age'].isnull(), 'Age'] = test['Age'].median()\n",
    "test.loc[test['RoomService'].isnull(), 'RoomService'] = test['RoomService'].median()\n",
    "test.loc[test['ShoppingMall'].isnull(), 'ShoppingMall'] = test['ShoppingMall'].median()\n",
    "\n",
    "test.isnull().sum()"
   ]
  },
  {
   "cell_type": "code",
   "execution_count": 39,
   "metadata": {
    "execution": {
     "iopub.execute_input": "2022-09-19T01:46:33.623345Z",
     "iopub.status.busy": "2022-09-19T01:46:33.622950Z",
     "iopub.status.idle": "2022-09-19T01:46:33.631378Z",
     "shell.execute_reply": "2022-09-19T01:46:33.629777Z",
     "shell.execute_reply.started": "2022-09-19T01:46:33.623314Z"
    }
   },
   "outputs": [],
   "source": [
    "# Age\n",
    "sel = [ 'Age', 'RoomService', 'ShoppingMall' ]\n",
    "\n",
    "X = train[sel]\n",
    "y = train['Transported']\n",
    "\n",
    "last_test = test[sel]"
   ]
  },
  {
   "cell_type": "code",
   "execution_count": 40,
   "metadata": {
    "execution": {
     "iopub.execute_input": "2022-09-19T01:46:34.472004Z",
     "iopub.status.busy": "2022-09-19T01:46:34.471591Z",
     "iopub.status.idle": "2022-09-19T01:46:34.476649Z",
     "shell.execute_reply": "2022-09-19T01:46:34.475581Z",
     "shell.execute_reply.started": "2022-09-19T01:46:34.471957Z"
    }
   },
   "outputs": [],
   "source": [
    "from sklearn.neighbors import KNeighborsClassifier"
   ]
  },
  {
   "cell_type": "code",
   "execution_count": 52,
   "metadata": {
    "execution": {
     "iopub.execute_input": "2022-09-19T02:07:14.310568Z",
     "iopub.status.busy": "2022-09-19T02:07:14.310136Z",
     "iopub.status.idle": "2022-09-19T02:07:14.581794Z",
     "shell.execute_reply": "2022-09-19T02:07:14.580599Z",
     "shell.execute_reply.started": "2022-09-19T02:07:14.310534Z"
    }
   },
   "outputs": [
    {
     "name": "stdout",
     "output_type": "stream",
     "text": [
      "학습용 정확도 :  0.6758311284941907\n"
     ]
    }
   ],
   "source": [
    "# 머신러닝 모델을 지정\n",
    "model1 = KNeighborsClassifier()\n",
    "\n",
    "# 머신러닝 모델을 이용해서 학습\n",
    "model1.fit(X, y)\n",
    "\n",
    "# 점수 평가 (___.score(입력, 출력))\n",
    "print(\"학습용 정확도 : \", model1.score(X, y))"
   ]
  },
  {
   "cell_type": "raw",
   "metadata": {
    "execution": {
     "iopub.execute_input": "2022-09-19T01:47:07.415826Z",
     "iopub.status.busy": "2022-09-19T01:47:07.415301Z",
     "iopub.status.idle": "2022-09-19T01:47:07.439048Z",
     "shell.execute_reply": "2022-09-19T01:47:07.438253Z",
     "shell.execute_reply.started": "2022-09-19T01:47:07.415778Z"
    }
   },
   "source": [
    "train.corr()"
   ]
  },
  {
   "cell_type": "code",
   "execution_count": 58,
   "metadata": {
    "execution": {
     "iopub.execute_input": "2022-09-19T02:13:02.856167Z",
     "iopub.status.busy": "2022-09-19T02:13:02.855736Z",
     "iopub.status.idle": "2022-09-19T02:13:03.416430Z",
     "shell.execute_reply": "2022-09-19T02:13:03.415390Z",
     "shell.execute_reply.started": "2022-09-19T02:13:02.856130Z"
    }
   },
   "outputs": [
    {
     "data": {
      "text/plain": [
       "<AxesSubplot:>"
      ]
     },
     "execution_count": 58,
     "metadata": {},
     "output_type": "execute_result"
    },
    {
     "data": {
      "image/png": "[encoded data removed]",
      "text/plain": [
       "<Figure size 432x288 with 2 Axes>"
      ]
     },
     "metadata": {
      "needs_background": "light"
     },
     "output_type": "display_data"
    }
   ],
   "source": [
    "sns.heatmap(train.corr(), annot=True, fmt=\".2f\")"
   ]
  },
  {
   "cell_type": "code",
   "execution_count": 59,
   "metadata": {
    "execution": {
     "iopub.execute_input": "2022-09-19T02:13:03.972664Z",
     "iopub.status.busy": "2022-09-19T02:13:03.970993Z",
     "iopub.status.idle": "2022-09-19T02:13:04.113729Z",
     "shell.execute_reply": "2022-09-19T02:13:04.112567Z",
     "shell.execute_reply.started": "2022-09-19T02:13:03.972619Z"
    }
   },
   "outputs": [
    {
     "data": {
      "text/plain": [
       "array([ True,  True,  True, ...,  True,  True, False])"
      ]
     },
     "execution_count": 59,
     "metadata": {},
     "output_type": "execute_result"
    }
   ],
   "source": [
    "# 머신러닝 모델 학습이 완료된 친구에서 새로운 데이터로 예측 수행\n",
    "pred = model1.predict(last_test)\n",
    "pred"
   ]
  },
  {
   "cell_type": "code",
   "execution_count": 60,
   "metadata": {
    "execution": {
     "iopub.execute_input": "2022-09-19T02:13:04.247421Z",
     "iopub.status.busy": "2022-09-19T02:13:04.247022Z",
     "iopub.status.idle": "2022-09-19T02:13:04.258215Z",
     "shell.execute_reply": "2022-09-19T02:13:04.256931Z",
     "shell.execute_reply.started": "2022-09-19T02:13:04.247386Z"
    }
   },
   "outputs": [
    {
     "data": {
      "text/html": [
       "<div>\n",
       "<style scoped>\n",
       "    .dataframe tbody tr th:only-of-type {\n",
       "        vertical-align: middle;\n",
       "    }\n",
       "\n",
       "    .dataframe tbody tr th {\n",
       "        vertical-align: top;\n",
       "    }\n",
       "\n",
       "    .dataframe thead th {\n",
       "        text-align: right;\n",
       "    }\n",
       "</style>\n",
       "<table border=\"1\" class=\"dataframe\">\n",
       "  <thead>\n",
       "    <tr style=\"text-align: right;\">\n",
       "      <th></th>\n",
       "      <th>PassengerId</th>\n",
       "      <th>Transported</th>\n",
       "    </tr>\n",
       "  </thead>\n",
       "  <tbody>\n",
       "    <tr>\n",
       "      <th>0</th>\n",
       "      <td>0013_01</td>\n",
       "      <td>True</td>\n",
       "    </tr>\n",
       "    <tr>\n",
       "      <th>1</th>\n",
       "      <td>0018_01</td>\n",
       "      <td>True</td>\n",
       "    </tr>\n",
       "    <tr>\n",
       "      <th>2</th>\n",
       "      <td>0019_01</td>\n",
       "      <td>True</td>\n",
       "    </tr>\n",
       "    <tr>\n",
       "      <th>3</th>\n",
       "      <td>0021_01</td>\n",
       "      <td>True</td>\n",
       "    </tr>\n",
       "    <tr>\n",
       "      <th>4</th>\n",
       "      <td>0023_01</td>\n",
       "      <td>True</td>\n",
       "    </tr>\n",
       "  </tbody>\n",
       "</table>\n",
       "</div>"
      ],
      "text/plain": [
       "  PassengerId  Transported\n",
       "0     0013_01         True\n",
       "1     0018_01         True\n",
       "2     0019_01         True\n",
       "3     0021_01         True\n",
       "4     0023_01         True"
      ]
     },
     "execution_count": 60,
     "metadata": {},
     "output_type": "execute_result"
    }
   ],
   "source": [
    "sub.head()"
   ]
  },
  {
   "cell_type": "code",
   "execution_count": 61,
   "metadata": {
    "execution": {
     "iopub.execute_input": "2022-09-19T02:13:04.494555Z",
     "iopub.status.busy": "2022-09-19T02:13:04.493754Z",
     "iopub.status.idle": "2022-09-19T02:13:04.506330Z",
     "shell.execute_reply": "2022-09-19T02:13:04.505312Z",
     "shell.execute_reply.started": "2022-09-19T02:13:04.494507Z"
    }
   },
   "outputs": [],
   "source": [
    "sub['Transported'] = pred\n",
    "sub.to_csv(\"first_sub_2209.csv\", index=False)"
   ]
  },
  {
   "cell_type": "code",
   "execution_count": null,
   "metadata": {},
   "outputs": [],
   "source": []
  }
 ],
 "metadata": {
  "kernelspec": {
   "display_name": "Python 3 (ipykernel)",
   "language": "python",
   "name": "python3"
  },
  "language_info": {
   "codemirror_mode": {
    "name": "ipython",
    "version": 3
   },
   "file_extension": ".py",
   "mimetype": "text/x-python",
   "name": "python",
   "nbconvert_exporter": "python",
   "pygments_lexer": "ipython3",
   "version": "3.9.12"
  }
 },
 "nbformat": 4,
 "nbformat_minor": 4
}
