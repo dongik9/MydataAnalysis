{
 "cells": [
  {
   "cell_type": "markdown",
   "id": "91da8ba3",
   "metadata": {},
   "source": [
    "### 앙상블 모델을 이용해 보기(xgboost, lightgbm)"
   ]
  },
  {
   "cell_type": "code",
   "execution_count": 2,
   "id": "cbe2e9e4",
   "metadata": {},
   "outputs": [],
   "source": [
    "import pandas as pd\n",
    "import matplotlib.pyplot as plt\n",
    "import seaborn as sns\n",
    "import numpy as np\n",
    "\n",
    "from sklearn.neighbors import KNeighborsRegressor\n",
    "from sklearn.linear_model import LinearRegression\n",
    "from sklearn.tree import DecisionTreeRegressor\n",
    "from sklearn.ensemble import RandomForestRegressor\n",
    "\n",
    "from sklearn.model_selection import train_test_split"
   ]
  },
  {
   "cell_type": "code",
   "execution_count": 3,
   "id": "8384b816",
   "metadata": {},
   "outputs": [
    {
     "data": {
      "text/plain": [
       "((10886, 12), (6493, 9), (6493, 2))"
      ]
     },
     "execution_count": 3,
     "metadata": {},
     "output_type": "execute_result"
    }
   ],
   "source": [
    "train = pd.read_csv(\"./bike_data/train.csv\", parse_dates=['datetime'])\n",
    "test = pd.read_csv(\"./bike_data/test.csv\", parse_dates=['datetime'])\n",
    "sub = pd.read_csv(\"./bike_data/sampleSubmission.csv\")\n",
    "\n",
    "train.shape, test.shape, sub.shape"
   ]
  },
  {
   "cell_type": "code",
   "execution_count": 4,
   "id": "aebe144f",
   "metadata": {},
   "outputs": [
    {
     "name": "stdout",
     "output_type": "stream",
     "text": [
      "<class 'pandas.core.frame.DataFrame'>\n",
      "RangeIndex: 10886 entries, 0 to 10885\n",
      "Data columns (total 12 columns):\n",
      " #   Column      Non-Null Count  Dtype         \n",
      "---  ------      --------------  -----         \n",
      " 0   datetime    10886 non-null  datetime64[ns]\n",
      " 1   season      10886 non-null  int64         \n",
      " 2   holiday     10886 non-null  int64         \n",
      " 3   workingday  10886 non-null  int64         \n",
      " 4   weather     10886 non-null  int64         \n",
      " 5   temp        10886 non-null  float64       \n",
      " 6   atemp       10886 non-null  float64       \n",
      " 7   humidity    10886 non-null  int64         \n",
      " 8   windspeed   10886 non-null  float64       \n",
      " 9   casual      10886 non-null  int64         \n",
      " 10  registered  10886 non-null  int64         \n",
      " 11  count       10886 non-null  int64         \n",
      "dtypes: datetime64[ns](1), float64(3), int64(8)\n",
      "memory usage: 1020.7 KB\n"
     ]
    }
   ],
   "source": [
    "train.info()"
   ]
  },
  {
   "cell_type": "code",
   "execution_count": 5,
   "id": "3eb87dd4",
   "metadata": {},
   "outputs": [
    {
     "name": "stdout",
     "output_type": "stream",
     "text": [
      "<class 'pandas.core.frame.DataFrame'>\n",
      "RangeIndex: 6493 entries, 0 to 6492\n",
      "Data columns (total 9 columns):\n",
      " #   Column      Non-Null Count  Dtype         \n",
      "---  ------      --------------  -----         \n",
      " 0   datetime    6493 non-null   datetime64[ns]\n",
      " 1   season      6493 non-null   int64         \n",
      " 2   holiday     6493 non-null   int64         \n",
      " 3   workingday  6493 non-null   int64         \n",
      " 4   weather     6493 non-null   int64         \n",
      " 5   temp        6493 non-null   float64       \n",
      " 6   atemp       6493 non-null   float64       \n",
      " 7   humidity    6493 non-null   int64         \n",
      " 8   windspeed   6493 non-null   float64       \n",
      "dtypes: datetime64[ns](1), float64(3), int64(5)\n",
      "memory usage: 456.7 KB\n"
     ]
    }
   ],
   "source": [
    "test.info()"
   ]
  },
  {
   "cell_type": "code",
   "execution_count": 6,
   "id": "ccd73ccc",
   "metadata": {},
   "outputs": [],
   "source": [
    "col_names = [ 'season', 'holiday', 'workingday', 'weather' ]"
   ]
  },
  {
   "cell_type": "code",
   "execution_count": 8,
   "id": "980e8481",
   "metadata": {
    "scrolled": false
   },
   "outputs": [
    {
     "data": {
      "image/png": "[encoded data removed]",
      "text/plain": [
       "<Figure size 864x720 with 4 Axes>"
      ]
     },
     "metadata": {
      "needs_background": "light"
     },
     "output_type": "display_data"
    }
   ],
   "source": [
    "i = 0\n",
    "plt.figure(figsize=(12,10))\n",
    "\n",
    "for name in col_names:\n",
    "    i = i+1\n",
    "    plt.subplot(2,2,i)\n",
    "    sns.countplot(x=name, data=train)\n",
    "    \n",
    "plt.show()"
   ]
  },
  {
   "cell_type": "code",
   "execution_count": 9,
   "id": "891ac6fb",
   "metadata": {},
   "outputs": [
    {
     "data": {
      "text/plain": [
       "0        1\n",
       "1        1\n",
       "2        1\n",
       "3        1\n",
       "4        1\n",
       "        ..\n",
       "10881    1\n",
       "10882    1\n",
       "10883    1\n",
       "10884    1\n",
       "10885    1\n",
       "Name: weather, Length: 10886, dtype: int64"
      ]
     },
     "execution_count": 9,
     "metadata": {},
     "output_type": "execute_result"
    }
   ],
   "source": [
    "train['weather']"
   ]
  },
  {
   "cell_type": "code",
   "execution_count": null,
   "id": "1fb777e6",
   "metadata": {},
   "outputs": [],
   "source": []
  },
  {
   "cell_type": "markdown",
   "id": "112198f8",
   "metadata": {},
   "source": [
    "### 수치형 데이터의 시각화"
   ]
  },
  {
   "cell_type": "code",
   "execution_count": 10,
   "id": "477d4d38",
   "metadata": {},
   "outputs": [
    {
     "data": {
      "text/plain": [
       "Index(['datetime', 'season', 'holiday', 'workingday', 'weather', 'temp',\n",
       "       'atemp', 'humidity', 'windspeed', 'casual', 'registered', 'count'],\n",
       "      dtype='object')"
      ]
     },
     "execution_count": 10,
     "metadata": {},
     "output_type": "execute_result"
    }
   ],
   "source": [
    "train.columns"
   ]
  },
  {
   "cell_type": "code",
   "execution_count": 11,
   "id": "701bed72",
   "metadata": {},
   "outputs": [
    {
     "data": {
      "image/png": "[encoded data removed]",
      "text/plain": [
       "<Figure size 864x720 with 4 Axes>"
      ]
     },
     "metadata": {
      "needs_background": "light"
     },
     "output_type": "display_data"
    }
   ],
   "source": [
    "sel = ['temp', 'atemp', 'humidity', 'windspeed']\n",
    "\n",
    "i = 0\n",
    "plt.figure(figsize=(12,10))\n",
    "\n",
    "for name in sel:\n",
    "    i = i+1\n",
    "    plt.subplot(2,2,i)\n",
    "    sns.countplot(x=name, data=test)\n",
    "    \n",
    "plt.show()"
   ]
  },
  {
   "cell_type": "markdown",
   "id": "2bd532df",
   "metadata": {},
   "source": [
    "* windspeed에서 0의 값이 많다."
   ]
  },
  {
   "cell_type": "code",
   "execution_count": 16,
   "id": "0245684d",
   "metadata": {},
   "outputs": [
    {
     "data": {
      "image/png": "[encoded data removed]",
      "text/plain": [
       "<Figure size 864x1800 with 8 Axes>"
      ]
     },
     "metadata": {
      "needs_background": "light"
     },
     "output_type": "display_data"
    }
   ],
   "source": [
    "sel = ['temp', 'atemp', 'humidity', 'windspeed']\n",
    "\n",
    "i = 0\n",
    "plt.figure(figsize=(12,25))\n",
    "\n",
    "for name in sel:\n",
    "    i = i+1\n",
    "    plt.subplot(4,2,i)\n",
    "    sns.countplot(x=name, data=train)\n",
    "    plt.title(\"train\" + name)\n",
    "    \n",
    "    i = i+1\n",
    "    plt.subplot(4,2,i)\n",
    "    sns.countplot(x=name, data=test)\n",
    "    plt.title(\"test\" + name)\n",
    "    \n",
    "plt.show()"
   ]
  },
  {
   "cell_type": "code",
   "execution_count": 17,
   "id": "07c72172",
   "metadata": {},
   "outputs": [
    {
     "data": {
      "text/plain": [
       "Index(['datetime', 'season', 'holiday', 'workingday', 'weather', 'temp',\n",
       "       'atemp', 'humidity', 'windspeed', 'casual', 'registered', 'count'],\n",
       "      dtype='object')"
      ]
     },
     "execution_count": 17,
     "metadata": {},
     "output_type": "execute_result"
    }
   ],
   "source": [
    "train.columns"
   ]
  },
  {
   "cell_type": "code",
   "execution_count": 19,
   "id": "412b23e3",
   "metadata": {},
   "outputs": [
    {
     "data": {
      "text/plain": [
       "(Timestamp('2011-01-01 00:00:00'), Timestamp('2012-12-19 23:00:00'))"
      ]
     },
     "execution_count": 19,
     "metadata": {},
     "output_type": "execute_result"
    }
   ],
   "source": [
    "train['datetime'].min(), train['datetime'].max()"
   ]
  },
  {
   "cell_type": "code",
   "execution_count": 20,
   "id": "9550f672",
   "metadata": {},
   "outputs": [
    {
     "data": {
      "text/plain": [
       "(Timestamp('2011-01-20 00:00:00'), Timestamp('2012-12-31 23:00:00'))"
      ]
     },
     "execution_count": 20,
     "metadata": {},
     "output_type": "execute_result"
    }
   ],
   "source": [
    "test['datetime'].min(), test['datetime'].max()"
   ]
  },
  {
   "cell_type": "code",
   "execution_count": 21,
   "id": "11b1da9d",
   "metadata": {},
   "outputs": [
    {
     "data": {
      "text/plain": [
       "Index(['datetime', 'season', 'holiday', 'workingday', 'weather', 'temp',\n",
       "       'atemp', 'humidity', 'windspeed', 'casual', 'registered', 'count'],\n",
       "      dtype='object')"
      ]
     },
     "execution_count": 21,
     "metadata": {},
     "output_type": "execute_result"
    }
   ],
   "source": [
    "new_tr = train.copy()\n",
    "new_test = test.copy()\n",
    "new_tr.columns"
   ]
  },
  {
   "cell_type": "code",
   "execution_count": 23,
   "id": "2bfb661a",
   "metadata": {},
   "outputs": [
    {
     "name": "stdout",
     "output_type": "stream",
     "text": [
      "<class 'pandas.core.frame.DataFrame'>\n",
      "RangeIndex: 10886 entries, 0 to 10885\n",
      "Data columns (total 12 columns):\n",
      " #   Column      Non-Null Count  Dtype         \n",
      "---  ------      --------------  -----         \n",
      " 0   datetime    10886 non-null  datetime64[ns]\n",
      " 1   season      10886 non-null  int64         \n",
      " 2   holiday     10886 non-null  int64         \n",
      " 3   workingday  10886 non-null  int64         \n",
      " 4   weather     10886 non-null  int64         \n",
      " 5   temp        10886 non-null  float64       \n",
      " 6   atemp       10886 non-null  float64       \n",
      " 7   humidity    10886 non-null  int64         \n",
      " 8   windspeed   10886 non-null  float64       \n",
      " 9   casual      10886 non-null  int64         \n",
      " 10  registered  10886 non-null  int64         \n",
      " 11  count       10886 non-null  int64         \n",
      "dtypes: datetime64[ns](1), float64(3), int64(8)\n",
      "memory usage: 1020.7 KB\n"
     ]
    }
   ],
   "source": [
    "new_tr.info()"
   ]
  },
  {
   "cell_type": "code",
   "execution_count": 31,
   "id": "bd03250d",
   "metadata": {},
   "outputs": [
    {
     "data": {
      "text/html": [
       "<div>\n",
       "<style scoped>\n",
       "    .dataframe tbody tr th:only-of-type {\n",
       "        vertical-align: middle;\n",
       "    }\n",
       "\n",
       "    .dataframe tbody tr th {\n",
       "        vertical-align: top;\n",
       "    }\n",
       "\n",
       "    .dataframe thead th {\n",
       "        text-align: right;\n",
       "    }\n",
       "</style>\n",
       "<table border=\"1\" class=\"dataframe\">\n",
       "  <thead>\n",
       "    <tr style=\"text-align: right;\">\n",
       "      <th></th>\n",
       "      <th>datetime</th>\n",
       "      <th>season</th>\n",
       "      <th>holiday</th>\n",
       "      <th>workingday</th>\n",
       "      <th>weather</th>\n",
       "      <th>temp</th>\n",
       "      <th>atemp</th>\n",
       "      <th>humidity</th>\n",
       "      <th>windspeed</th>\n",
       "      <th>casual</th>\n",
       "      <th>registered</th>\n",
       "      <th>count</th>\n",
       "      <th>year</th>\n",
       "      <th>month</th>\n",
       "      <th>day</th>\n",
       "      <th>hour</th>\n",
       "      <th>minute</th>\n",
       "      <th>second</th>\n",
       "    </tr>\n",
       "  </thead>\n",
       "  <tbody>\n",
       "    <tr>\n",
       "      <th>0</th>\n",
       "      <td>2011-01-01 00:00:00</td>\n",
       "      <td>1</td>\n",
       "      <td>0</td>\n",
       "      <td>0</td>\n",
       "      <td>1</td>\n",
       "      <td>9.84</td>\n",
       "      <td>14.395</td>\n",
       "      <td>81</td>\n",
       "      <td>0.0000</td>\n",
       "      <td>3</td>\n",
       "      <td>13</td>\n",
       "      <td>16</td>\n",
       "      <td>2011</td>\n",
       "      <td>1</td>\n",
       "      <td>1</td>\n",
       "      <td>0</td>\n",
       "      <td>0</td>\n",
       "      <td>0</td>\n",
       "    </tr>\n",
       "    <tr>\n",
       "      <th>1</th>\n",
       "      <td>2011-01-01 01:00:00</td>\n",
       "      <td>1</td>\n",
       "      <td>0</td>\n",
       "      <td>0</td>\n",
       "      <td>1</td>\n",
       "      <td>9.02</td>\n",
       "      <td>13.635</td>\n",
       "      <td>80</td>\n",
       "      <td>0.0000</td>\n",
       "      <td>8</td>\n",
       "      <td>32</td>\n",
       "      <td>40</td>\n",
       "      <td>2011</td>\n",
       "      <td>1</td>\n",
       "      <td>1</td>\n",
       "      <td>1</td>\n",
       "      <td>0</td>\n",
       "      <td>0</td>\n",
       "    </tr>\n",
       "    <tr>\n",
       "      <th>2</th>\n",
       "      <td>2011-01-01 02:00:00</td>\n",
       "      <td>1</td>\n",
       "      <td>0</td>\n",
       "      <td>0</td>\n",
       "      <td>1</td>\n",
       "      <td>9.02</td>\n",
       "      <td>13.635</td>\n",
       "      <td>80</td>\n",
       "      <td>0.0000</td>\n",
       "      <td>5</td>\n",
       "      <td>27</td>\n",
       "      <td>32</td>\n",
       "      <td>2011</td>\n",
       "      <td>1</td>\n",
       "      <td>1</td>\n",
       "      <td>2</td>\n",
       "      <td>0</td>\n",
       "      <td>0</td>\n",
       "    </tr>\n",
       "    <tr>\n",
       "      <th>3</th>\n",
       "      <td>2011-01-01 03:00:00</td>\n",
       "      <td>1</td>\n",
       "      <td>0</td>\n",
       "      <td>0</td>\n",
       "      <td>1</td>\n",
       "      <td>9.84</td>\n",
       "      <td>14.395</td>\n",
       "      <td>75</td>\n",
       "      <td>0.0000</td>\n",
       "      <td>3</td>\n",
       "      <td>10</td>\n",
       "      <td>13</td>\n",
       "      <td>2011</td>\n",
       "      <td>1</td>\n",
       "      <td>1</td>\n",
       "      <td>3</td>\n",
       "      <td>0</td>\n",
       "      <td>0</td>\n",
       "    </tr>\n",
       "    <tr>\n",
       "      <th>4</th>\n",
       "      <td>2011-01-01 04:00:00</td>\n",
       "      <td>1</td>\n",
       "      <td>0</td>\n",
       "      <td>0</td>\n",
       "      <td>1</td>\n",
       "      <td>9.84</td>\n",
       "      <td>14.395</td>\n",
       "      <td>75</td>\n",
       "      <td>0.0000</td>\n",
       "      <td>0</td>\n",
       "      <td>1</td>\n",
       "      <td>1</td>\n",
       "      <td>2011</td>\n",
       "      <td>1</td>\n",
       "      <td>1</td>\n",
       "      <td>4</td>\n",
       "      <td>0</td>\n",
       "      <td>0</td>\n",
       "    </tr>\n",
       "    <tr>\n",
       "      <th>...</th>\n",
       "      <td>...</td>\n",
       "      <td>...</td>\n",
       "      <td>...</td>\n",
       "      <td>...</td>\n",
       "      <td>...</td>\n",
       "      <td>...</td>\n",
       "      <td>...</td>\n",
       "      <td>...</td>\n",
       "      <td>...</td>\n",
       "      <td>...</td>\n",
       "      <td>...</td>\n",
       "      <td>...</td>\n",
       "      <td>...</td>\n",
       "      <td>...</td>\n",
       "      <td>...</td>\n",
       "      <td>...</td>\n",
       "      <td>...</td>\n",
       "      <td>...</td>\n",
       "    </tr>\n",
       "    <tr>\n",
       "      <th>10881</th>\n",
       "      <td>2012-12-19 19:00:00</td>\n",
       "      <td>4</td>\n",
       "      <td>0</td>\n",
       "      <td>1</td>\n",
       "      <td>1</td>\n",
       "      <td>15.58</td>\n",
       "      <td>19.695</td>\n",
       "      <td>50</td>\n",
       "      <td>26.0027</td>\n",
       "      <td>7</td>\n",
       "      <td>329</td>\n",
       "      <td>336</td>\n",
       "      <td>2012</td>\n",
       "      <td>12</td>\n",
       "      <td>19</td>\n",
       "      <td>19</td>\n",
       "      <td>0</td>\n",
       "      <td>0</td>\n",
       "    </tr>\n",
       "    <tr>\n",
       "      <th>10882</th>\n",
       "      <td>2012-12-19 20:00:00</td>\n",
       "      <td>4</td>\n",
       "      <td>0</td>\n",
       "      <td>1</td>\n",
       "      <td>1</td>\n",
       "      <td>14.76</td>\n",
       "      <td>17.425</td>\n",
       "      <td>57</td>\n",
       "      <td>15.0013</td>\n",
       "      <td>10</td>\n",
       "      <td>231</td>\n",
       "      <td>241</td>\n",
       "      <td>2012</td>\n",
       "      <td>12</td>\n",
       "      <td>19</td>\n",
       "      <td>20</td>\n",
       "      <td>0</td>\n",
       "      <td>0</td>\n",
       "    </tr>\n",
       "    <tr>\n",
       "      <th>10883</th>\n",
       "      <td>2012-12-19 21:00:00</td>\n",
       "      <td>4</td>\n",
       "      <td>0</td>\n",
       "      <td>1</td>\n",
       "      <td>1</td>\n",
       "      <td>13.94</td>\n",
       "      <td>15.910</td>\n",
       "      <td>61</td>\n",
       "      <td>15.0013</td>\n",
       "      <td>4</td>\n",
       "      <td>164</td>\n",
       "      <td>168</td>\n",
       "      <td>2012</td>\n",
       "      <td>12</td>\n",
       "      <td>19</td>\n",
       "      <td>21</td>\n",
       "      <td>0</td>\n",
       "      <td>0</td>\n",
       "    </tr>\n",
       "    <tr>\n",
       "      <th>10884</th>\n",
       "      <td>2012-12-19 22:00:00</td>\n",
       "      <td>4</td>\n",
       "      <td>0</td>\n",
       "      <td>1</td>\n",
       "      <td>1</td>\n",
       "      <td>13.94</td>\n",
       "      <td>17.425</td>\n",
       "      <td>61</td>\n",
       "      <td>6.0032</td>\n",
       "      <td>12</td>\n",
       "      <td>117</td>\n",
       "      <td>129</td>\n",
       "      <td>2012</td>\n",
       "      <td>12</td>\n",
       "      <td>19</td>\n",
       "      <td>22</td>\n",
       "      <td>0</td>\n",
       "      <td>0</td>\n",
       "    </tr>\n",
       "    <tr>\n",
       "      <th>10885</th>\n",
       "      <td>2012-12-19 23:00:00</td>\n",
       "      <td>4</td>\n",
       "      <td>0</td>\n",
       "      <td>1</td>\n",
       "      <td>1</td>\n",
       "      <td>13.12</td>\n",
       "      <td>16.665</td>\n",
       "      <td>66</td>\n",
       "      <td>8.9981</td>\n",
       "      <td>4</td>\n",
       "      <td>84</td>\n",
       "      <td>88</td>\n",
       "      <td>2012</td>\n",
       "      <td>12</td>\n",
       "      <td>19</td>\n",
       "      <td>23</td>\n",
       "      <td>0</td>\n",
       "      <td>0</td>\n",
       "    </tr>\n",
       "  </tbody>\n",
       "</table>\n",
       "<p>10886 rows × 18 columns</p>\n",
       "</div>"
      ],
      "text/plain": [
       "                 datetime  season  holiday  workingday  weather   temp  \\\n",
       "0     2011-01-01 00:00:00       1        0           0        1   9.84   \n",
       "1     2011-01-01 01:00:00       1        0           0        1   9.02   \n",
       "2     2011-01-01 02:00:00       1        0           0        1   9.02   \n",
       "3     2011-01-01 03:00:00       1        0           0        1   9.84   \n",
       "4     2011-01-01 04:00:00       1        0           0        1   9.84   \n",
       "...                   ...     ...      ...         ...      ...    ...   \n",
       "10881 2012-12-19 19:00:00       4        0           1        1  15.58   \n",
       "10882 2012-12-19 20:00:00       4        0           1        1  14.76   \n",
       "10883 2012-12-19 21:00:00       4        0           1        1  13.94   \n",
       "10884 2012-12-19 22:00:00       4        0           1        1  13.94   \n",
       "10885 2012-12-19 23:00:00       4        0           1        1  13.12   \n",
       "\n",
       "        atemp  humidity  windspeed  casual  registered  count  year  month  \\\n",
       "0      14.395        81     0.0000       3          13     16  2011      1   \n",
       "1      13.635        80     0.0000       8          32     40  2011      1   \n",
       "2      13.635        80     0.0000       5          27     32  2011      1   \n",
       "3      14.395        75     0.0000       3          10     13  2011      1   \n",
       "4      14.395        75     0.0000       0           1      1  2011      1   \n",
       "...       ...       ...        ...     ...         ...    ...   ...    ...   \n",
       "10881  19.695        50    26.0027       7         329    336  2012     12   \n",
       "10882  17.425        57    15.0013      10         231    241  2012     12   \n",
       "10883  15.910        61    15.0013       4         164    168  2012     12   \n",
       "10884  17.425        61     6.0032      12         117    129  2012     12   \n",
       "10885  16.665        66     8.9981       4          84     88  2012     12   \n",
       "\n",
       "       day  hour  minute  second  \n",
       "0        1     0       0       0  \n",
       "1        1     1       0       0  \n",
       "2        1     2       0       0  \n",
       "3        1     3       0       0  \n",
       "4        1     4       0       0  \n",
       "...    ...   ...     ...     ...  \n",
       "10881   19    19       0       0  \n",
       "10882   19    20       0       0  \n",
       "10883   19    21       0       0  \n",
       "10884   19    22       0       0  \n",
       "10885   19    23       0       0  \n",
       "\n",
       "[10886 rows x 18 columns]"
      ]
     },
     "execution_count": 31,
     "metadata": {},
     "output_type": "execute_result"
    }
   ],
   "source": [
    "new_tr['year'] = new_tr['datetime'].dt.year\n",
    "new_tr['month'] = new_tr['datetime'].dt.month\n",
    "new_tr['day'] = new_tr['datetime'].dt.day\n",
    "new_tr['hour'] = new_tr['datetime'].dt.hour\n",
    "new_tr['minute'] = new_tr['datetime'].dt.minute\n",
    "new_tr['second'] = new_tr['datetime'].dt.second\n",
    "\n",
    "new_tr"
   ]
  },
  {
   "cell_type": "code",
   "execution_count": 34,
   "id": "0dc4e11f",
   "metadata": {},
   "outputs": [
    {
     "data": {
      "image/png": "[encoded data removed]",
      "text/plain": [
       "<Figure size 864x720 with 6 Axes>"
      ]
     },
     "metadata": {
      "needs_background": "light"
     },
     "output_type": "display_data"
    }
   ],
   "source": [
    "sel = ['year', 'month', 'day', 'hour', 'minute', 'second']\n",
    "\n",
    "i=0\n",
    "plt.figure(figsize=(12,10))\n",
    "\n",
    "for name in sel:\n",
    "    i = i+1\n",
    "    plt.subplot(3,2,i)\n",
    "    sns.barplot(x=name, y='count', data=new_tr)\n",
    "    \n",
    "plt.show()"
   ]
  },
  {
   "cell_type": "markdown",
   "id": "02c0af5f",
   "metadata": {},
   "source": [
    "* 2011년보다 2012년이 많이 증가대수가 증가했다.\n",
    "* 겨울에는 대여수가 적고 여름에는 많다.\n",
    "* 출퇴근 시간대에 빌리는 대수가 많다.\n",
    "* 분, 초에 대한 데이터는 없다."
   ]
  },
  {
   "cell_type": "code",
   "execution_count": 36,
   "id": "89c96059",
   "metadata": {},
   "outputs": [
    {
     "data": {
      "text/html": [
       "<div>\n",
       "<style scoped>\n",
       "    .dataframe tbody tr th:only-of-type {\n",
       "        vertical-align: middle;\n",
       "    }\n",
       "\n",
       "    .dataframe tbody tr th {\n",
       "        vertical-align: top;\n",
       "    }\n",
       "\n",
       "    .dataframe thead th {\n",
       "        text-align: right;\n",
       "    }\n",
       "</style>\n",
       "<table border=\"1\" class=\"dataframe\">\n",
       "  <thead>\n",
       "    <tr style=\"text-align: right;\">\n",
       "      <th></th>\n",
       "      <th>datetime</th>\n",
       "      <th>season</th>\n",
       "      <th>holiday</th>\n",
       "      <th>workingday</th>\n",
       "      <th>weather</th>\n",
       "      <th>temp</th>\n",
       "      <th>atemp</th>\n",
       "      <th>humidity</th>\n",
       "      <th>windspeed</th>\n",
       "      <th>year</th>\n",
       "      <th>month</th>\n",
       "      <th>day</th>\n",
       "      <th>hour</th>\n",
       "      <th>minute</th>\n",
       "      <th>second</th>\n",
       "    </tr>\n",
       "  </thead>\n",
       "  <tbody>\n",
       "    <tr>\n",
       "      <th>0</th>\n",
       "      <td>2011-01-20 00:00:00</td>\n",
       "      <td>1</td>\n",
       "      <td>0</td>\n",
       "      <td>1</td>\n",
       "      <td>1</td>\n",
       "      <td>10.66</td>\n",
       "      <td>11.365</td>\n",
       "      <td>56</td>\n",
       "      <td>26.0027</td>\n",
       "      <td>2011</td>\n",
       "      <td>1</td>\n",
       "      <td>20</td>\n",
       "      <td>0</td>\n",
       "      <td>0</td>\n",
       "      <td>0</td>\n",
       "    </tr>\n",
       "    <tr>\n",
       "      <th>1</th>\n",
       "      <td>2011-01-20 01:00:00</td>\n",
       "      <td>1</td>\n",
       "      <td>0</td>\n",
       "      <td>1</td>\n",
       "      <td>1</td>\n",
       "      <td>10.66</td>\n",
       "      <td>13.635</td>\n",
       "      <td>56</td>\n",
       "      <td>0.0000</td>\n",
       "      <td>2011</td>\n",
       "      <td>1</td>\n",
       "      <td>20</td>\n",
       "      <td>1</td>\n",
       "      <td>0</td>\n",
       "      <td>0</td>\n",
       "    </tr>\n",
       "    <tr>\n",
       "      <th>2</th>\n",
       "      <td>2011-01-20 02:00:00</td>\n",
       "      <td>1</td>\n",
       "      <td>0</td>\n",
       "      <td>1</td>\n",
       "      <td>1</td>\n",
       "      <td>10.66</td>\n",
       "      <td>13.635</td>\n",
       "      <td>56</td>\n",
       "      <td>0.0000</td>\n",
       "      <td>2011</td>\n",
       "      <td>1</td>\n",
       "      <td>20</td>\n",
       "      <td>2</td>\n",
       "      <td>0</td>\n",
       "      <td>0</td>\n",
       "    </tr>\n",
       "    <tr>\n",
       "      <th>3</th>\n",
       "      <td>2011-01-20 03:00:00</td>\n",
       "      <td>1</td>\n",
       "      <td>0</td>\n",
       "      <td>1</td>\n",
       "      <td>1</td>\n",
       "      <td>10.66</td>\n",
       "      <td>12.880</td>\n",
       "      <td>56</td>\n",
       "      <td>11.0014</td>\n",
       "      <td>2011</td>\n",
       "      <td>1</td>\n",
       "      <td>20</td>\n",
       "      <td>3</td>\n",
       "      <td>0</td>\n",
       "      <td>0</td>\n",
       "    </tr>\n",
       "    <tr>\n",
       "      <th>4</th>\n",
       "      <td>2011-01-20 04:00:00</td>\n",
       "      <td>1</td>\n",
       "      <td>0</td>\n",
       "      <td>1</td>\n",
       "      <td>1</td>\n",
       "      <td>10.66</td>\n",
       "      <td>12.880</td>\n",
       "      <td>56</td>\n",
       "      <td>11.0014</td>\n",
       "      <td>2011</td>\n",
       "      <td>1</td>\n",
       "      <td>20</td>\n",
       "      <td>4</td>\n",
       "      <td>0</td>\n",
       "      <td>0</td>\n",
       "    </tr>\n",
       "    <tr>\n",
       "      <th>...</th>\n",
       "      <td>...</td>\n",
       "      <td>...</td>\n",
       "      <td>...</td>\n",
       "      <td>...</td>\n",
       "      <td>...</td>\n",
       "      <td>...</td>\n",
       "      <td>...</td>\n",
       "      <td>...</td>\n",
       "      <td>...</td>\n",
       "      <td>...</td>\n",
       "      <td>...</td>\n",
       "      <td>...</td>\n",
       "      <td>...</td>\n",
       "      <td>...</td>\n",
       "      <td>...</td>\n",
       "    </tr>\n",
       "    <tr>\n",
       "      <th>6488</th>\n",
       "      <td>2012-12-31 19:00:00</td>\n",
       "      <td>1</td>\n",
       "      <td>0</td>\n",
       "      <td>1</td>\n",
       "      <td>2</td>\n",
       "      <td>10.66</td>\n",
       "      <td>12.880</td>\n",
       "      <td>60</td>\n",
       "      <td>11.0014</td>\n",
       "      <td>2012</td>\n",
       "      <td>12</td>\n",
       "      <td>31</td>\n",
       "      <td>19</td>\n",
       "      <td>0</td>\n",
       "      <td>0</td>\n",
       "    </tr>\n",
       "    <tr>\n",
       "      <th>6489</th>\n",
       "      <td>2012-12-31 20:00:00</td>\n",
       "      <td>1</td>\n",
       "      <td>0</td>\n",
       "      <td>1</td>\n",
       "      <td>2</td>\n",
       "      <td>10.66</td>\n",
       "      <td>12.880</td>\n",
       "      <td>60</td>\n",
       "      <td>11.0014</td>\n",
       "      <td>2012</td>\n",
       "      <td>12</td>\n",
       "      <td>31</td>\n",
       "      <td>20</td>\n",
       "      <td>0</td>\n",
       "      <td>0</td>\n",
       "    </tr>\n",
       "    <tr>\n",
       "      <th>6490</th>\n",
       "      <td>2012-12-31 21:00:00</td>\n",
       "      <td>1</td>\n",
       "      <td>0</td>\n",
       "      <td>1</td>\n",
       "      <td>1</td>\n",
       "      <td>10.66</td>\n",
       "      <td>12.880</td>\n",
       "      <td>60</td>\n",
       "      <td>11.0014</td>\n",
       "      <td>2012</td>\n",
       "      <td>12</td>\n",
       "      <td>31</td>\n",
       "      <td>21</td>\n",
       "      <td>0</td>\n",
       "      <td>0</td>\n",
       "    </tr>\n",
       "    <tr>\n",
       "      <th>6491</th>\n",
       "      <td>2012-12-31 22:00:00</td>\n",
       "      <td>1</td>\n",
       "      <td>0</td>\n",
       "      <td>1</td>\n",
       "      <td>1</td>\n",
       "      <td>10.66</td>\n",
       "      <td>13.635</td>\n",
       "      <td>56</td>\n",
       "      <td>8.9981</td>\n",
       "      <td>2012</td>\n",
       "      <td>12</td>\n",
       "      <td>31</td>\n",
       "      <td>22</td>\n",
       "      <td>0</td>\n",
       "      <td>0</td>\n",
       "    </tr>\n",
       "    <tr>\n",
       "      <th>6492</th>\n",
       "      <td>2012-12-31 23:00:00</td>\n",
       "      <td>1</td>\n",
       "      <td>0</td>\n",
       "      <td>1</td>\n",
       "      <td>1</td>\n",
       "      <td>10.66</td>\n",
       "      <td>13.635</td>\n",
       "      <td>65</td>\n",
       "      <td>8.9981</td>\n",
       "      <td>2012</td>\n",
       "      <td>12</td>\n",
       "      <td>31</td>\n",
       "      <td>23</td>\n",
       "      <td>0</td>\n",
       "      <td>0</td>\n",
       "    </tr>\n",
       "  </tbody>\n",
       "</table>\n",
       "<p>6493 rows × 15 columns</p>\n",
       "</div>"
      ],
      "text/plain": [
       "                datetime  season  holiday  workingday  weather   temp   atemp  \\\n",
       "0    2011-01-20 00:00:00       1        0           1        1  10.66  11.365   \n",
       "1    2011-01-20 01:00:00       1        0           1        1  10.66  13.635   \n",
       "2    2011-01-20 02:00:00       1        0           1        1  10.66  13.635   \n",
       "3    2011-01-20 03:00:00       1        0           1        1  10.66  12.880   \n",
       "4    2011-01-20 04:00:00       1        0           1        1  10.66  12.880   \n",
       "...                  ...     ...      ...         ...      ...    ...     ...   \n",
       "6488 2012-12-31 19:00:00       1        0           1        2  10.66  12.880   \n",
       "6489 2012-12-31 20:00:00       1        0           1        2  10.66  12.880   \n",
       "6490 2012-12-31 21:00:00       1        0           1        1  10.66  12.880   \n",
       "6491 2012-12-31 22:00:00       1        0           1        1  10.66  13.635   \n",
       "6492 2012-12-31 23:00:00       1        0           1        1  10.66  13.635   \n",
       "\n",
       "      humidity  windspeed  year  month  day  hour  minute  second  \n",
       "0           56    26.0027  2011      1   20     0       0       0  \n",
       "1           56     0.0000  2011      1   20     1       0       0  \n",
       "2           56     0.0000  2011      1   20     2       0       0  \n",
       "3           56    11.0014  2011      1   20     3       0       0  \n",
       "4           56    11.0014  2011      1   20     4       0       0  \n",
       "...        ...        ...   ...    ...  ...   ...     ...     ...  \n",
       "6488        60    11.0014  2012     12   31    19       0       0  \n",
       "6489        60    11.0014  2012     12   31    20       0       0  \n",
       "6490        60    11.0014  2012     12   31    21       0       0  \n",
       "6491        56     8.9981  2012     12   31    22       0       0  \n",
       "6492        65     8.9981  2012     12   31    23       0       0  \n",
       "\n",
       "[6493 rows x 15 columns]"
      ]
     },
     "execution_count": 36,
     "metadata": {},
     "output_type": "execute_result"
    }
   ],
   "source": [
    "new_test['year'] = new_test['datetime'].dt.year\n",
    "new_test['month'] = new_test['datetime'].dt.month\n",
    "new_test['day'] = new_test['datetime'].dt.day\n",
    "new_test['hour'] = new_test['datetime'].dt.hour\n",
    "new_test['minute'] = new_test['datetime'].dt.minute\n",
    "new_test['second'] = new_test['datetime'].dt.second\n",
    "\n",
    "new_test"
   ]
  },
  {
   "cell_type": "markdown",
   "id": "f11a74c0",
   "metadata": {},
   "source": [
    "### 기본 모델과 새로운 피처를 추가해서 모델 생성"
   ]
  },
  {
   "cell_type": "code",
   "execution_count": 67,
   "id": "c9d87446",
   "metadata": {},
   "outputs": [],
   "source": [
    "sel = ['season', 'holiday', 'workingday', 'weather', 'temp',\n",
    "      'atemp', 'humidity', 'windspeed' ]"
   ]
  },
  {
   "cell_type": "code",
   "execution_count": 68,
   "id": "26364086",
   "metadata": {},
   "outputs": [],
   "source": [
    "X_tr = new_tr[sel]\n",
    "y = new_tr['count']\n",
    "\n",
    "X_last_test = new_test[sel]"
   ]
  },
  {
   "cell_type": "code",
   "execution_count": 69,
   "id": "f6d1385c",
   "metadata": {},
   "outputs": [],
   "source": [
    "X_train, X_test, y_train, y_test = train_test_split(X_tr, y, test_size=0.2, random_state=77)"
   ]
  },
  {
   "cell_type": "code",
   "execution_count": 70,
   "id": "85ab126e",
   "metadata": {},
   "outputs": [
    {
     "name": "stdout",
     "output_type": "stream",
     "text": [
      "학습용 결정계수 : 0.26323977033626156\n",
      "테스트용 결정계수 : 0.24990910860376603\n"
     ]
    }
   ],
   "source": [
    "model_base = LinearRegression()\n",
    "model_base.fit(X_train, y_train)\n",
    "\n",
    "print(\"학습용 결정계수 :\", model_base.score(X_train, y_train))\n",
    "print(\"테스트용 결정계수 :\", model_base.score(X_test, y_test))"
   ]
  },
  {
   "cell_type": "code",
   "execution_count": 71,
   "id": "4bef5703",
   "metadata": {},
   "outputs": [],
   "source": [
    "### 새로운 feature도 추가(년, 월, 시간)\n",
    "\n",
    "sel_ex = ['season', 'holiday', 'workingday', 'weather', 'temp',\n",
    "      'atemp', 'humidity', 'windspeed', 'year', 'month', 'hour' ]"
   ]
  },
  {
   "cell_type": "code",
   "execution_count": 72,
   "id": "53f4465d",
   "metadata": {},
   "outputs": [],
   "source": [
    "X_tr = new_tr[sel_ex]\n",
    "y = new_tr['count']\n",
    "\n",
    "X_last_test = new_test[sel_ex]"
   ]
  },
  {
   "cell_type": "code",
   "execution_count": 73,
   "id": "b98239fd",
   "metadata": {},
   "outputs": [],
   "source": [
    "X_train, X_test, y_train, y_test = train_test_split(X_tr, y, test_size=0.2, random_state=77)"
   ]
  },
  {
   "cell_type": "code",
   "execution_count": 74,
   "id": "c59fb8ac",
   "metadata": {},
   "outputs": [
    {
     "name": "stdout",
     "output_type": "stream",
     "text": [
      "학습용 결정계수 : 0.39330711638422833\n",
      "테스트용 결정계수 : 0.370069754983133\n"
     ]
    }
   ],
   "source": [
    "m = LinearRegression()\n",
    "m.fit(X_train, y_train)\n",
    "\n",
    "print(\"학습용 결정계수 :\", m.score(X_train, y_train))\n",
    "print(\"테스트용 결정계수 :\", m.score(X_test, y_test))"
   ]
  },
  {
   "cell_type": "code",
   "execution_count": 75,
   "id": "37b0c853",
   "metadata": {},
   "outputs": [],
   "source": [
    "preds = m.predict(X_last_test)\n",
    "sub['count'] = preds\n",
    "\n",
    "# count가 0보다 작으면 0으로 만든다.\n",
    "sub.loc[ sub['count']<0, 'count' ] = 0 # 음수 처리. 그 열의 count를 0으로\n",
    "sub.to_csv(\"second_model_lr.csv\", index=False)"
   ]
  },
  {
   "cell_type": "code",
   "execution_count": 78,
   "id": "9304f65f",
   "metadata": {},
   "outputs": [
    {
     "name": "stdout",
     "output_type": "stream",
     "text": [
      "학습용 결정계수 : 0.9998961592956268\n",
      "테스트용 결정계수 : 0.8862533326522125\n"
     ]
    }
   ],
   "source": [
    "# 3-6 의사결정트리 모델로 확인해 보기\n",
    "\n",
    "md = DecisionTreeRegressor()\n",
    "md.fit(X_train, y_train)\n",
    "\n",
    "print(\"학습용 결정계수 :\", md.score(X_train, y_train))\n",
    "print(\"테스트용 결정계수 :\", md.score(X_test, y_test))"
   ]
  },
  {
   "cell_type": "code",
   "execution_count": 79,
   "id": "bff4c95b",
   "metadata": {},
   "outputs": [],
   "source": [
    "preds = md.predict(X_last_test)\n",
    "sub['count'] = preds\n",
    "\n",
    "# count가 0보다 작으면 0으로 만든다.\n",
    "sub.loc[ sub['count']<0, 'count' ] = 0 # 음수 처리. 그 열의 count를 0으로\n",
    "sub.to_csv(\"second_model_tree.csv\", index=False)"
   ]
  },
  {
   "cell_type": "code",
   "execution_count": 80,
   "id": "eb16120f",
   "metadata": {},
   "outputs": [
    {
     "name": "stdout",
     "output_type": "stream",
     "text": [
      "학습용 결정계수 : 0.9915421375920119\n",
      "테스트용 결정계수 : 0.9434534338923439\n"
     ]
    }
   ],
   "source": [
    "# 3-7 앙상블(랜덤포레스트) 모델로 확인해 보기\n",
    "\n",
    "m = RandomForestRegressor()\n",
    "m.fit(X_train, y_train)\n",
    "\n",
    "print(\"학습용 결정계수 :\", m.score(X_train, y_train))\n",
    "print(\"테스트용 결정계수 :\", m.score(X_test, y_test))"
   ]
  },
  {
   "cell_type": "code",
   "execution_count": 81,
   "id": "137d3ead",
   "metadata": {},
   "outputs": [],
   "source": [
    "preds = m.predict(X_last_test)\n",
    "sub['count'] = preds\n",
    "\n",
    "# count가 0보다 작으면 0으로 만든다.\n",
    "sub.loc[ sub['count']<0 , \"count\"  ] = 0\n",
    "sub.to_csv(\"4th_model_ensemble.csv\", index=False)"
   ]
  },
  {
   "cell_type": "markdown",
   "id": "4aa51f76",
   "metadata": {},
   "source": [
    "### 좀 더 변수를 하나 생성"
   ]
  },
  {
   "cell_type": "code",
   "execution_count": 89,
   "id": "da1df54b",
   "metadata": {},
   "outputs": [
    {
     "data": {
      "text/plain": [
       "Index(['datetime', 'season', 'holiday', 'workingday', 'weather', 'temp',\n",
       "       'atemp', 'humidity', 'windspeed', 'casual', 'registered', 'count',\n",
       "       'year', 'month', 'day', 'hour', 'minute', 'second', 'dayofweek'],\n",
       "      dtype='object')"
      ]
     },
     "execution_count": 89,
     "metadata": {},
     "output_type": "execute_result"
    }
   ],
   "source": [
    "new_tr.columns"
   ]
  },
  {
   "cell_type": "code",
   "execution_count": 90,
   "id": "e6ef6edb",
   "metadata": {},
   "outputs": [],
   "source": [
    "new_tr['dayofweek'] = new_tr['datetime'].dt.dayofweek\n",
    "new_test['dayofweek'] = new_test['datetime'].dt.dayofweek"
   ]
  },
  {
   "cell_type": "code",
   "execution_count": 91,
   "id": "baa1f026",
   "metadata": {},
   "outputs": [],
   "source": [
    "### 새로운 feature도 추가(년, 월, 시간)\n",
    "\n",
    "sel_ex = ['season', 'holiday', 'workingday', 'weather', 'temp',\n",
    "      'atemp', 'humidity', 'windspeed', 'year', 'month', 'hour', 'dayofweek' ]"
   ]
  },
  {
   "cell_type": "code",
   "execution_count": 101,
   "id": "53c14c51",
   "metadata": {},
   "outputs": [],
   "source": [
    "X_tr = new_tr[sel_ex]\n",
    "y = new_tr['count']\n",
    "\n",
    "X_last_test = new_test[sel_ex]\n",
    "\n",
    "X_train, X_test, y_train, y_test = train_test_split(X_tr, y, test_size=0.2, random_state=77)"
   ]
  },
  {
   "cell_type": "code",
   "execution_count": 102,
   "id": "8949f0b3",
   "metadata": {},
   "outputs": [
    {
     "name": "stdout",
     "output_type": "stream",
     "text": [
      "학습용 결정계수 : 0.9927053392710384\n",
      "테스트용 결정계수 : 0.952924018058255\n"
     ]
    }
   ],
   "source": [
    "# 3-7 앙상블(랜덤포레스트) 모델로 확인해 보기\n",
    "\n",
    "m = RandomForestRegressor()\n",
    "m.fit(X_train, y_train)\n",
    "\n",
    "print(\"학습용 결정계수 :\", m.score(X_train, y_train))\n",
    "print(\"테스트용 결정계수 :\", m.score(X_test, y_test))"
   ]
  },
  {
   "cell_type": "code",
   "execution_count": 103,
   "id": "b92ff760",
   "metadata": {},
   "outputs": [],
   "source": [
    "preds = m.predict(X_last_test)\n",
    "sub['count'] = preds\n",
    "\n",
    "# count가 0보다 작으면 0으로 만든다.\n",
    "sub.loc[ sub['count']<0 , \"count\"  ] = 0\n",
    "sub.to_csv(\"5th_model_ensemble(add01).csv\", index=False)"
   ]
  },
  {
   "cell_type": "code",
   "execution_count": null,
   "id": "0ab1ce63",
   "metadata": {},
   "outputs": [],
   "source": []
  },
  {
   "cell_type": "code",
   "execution_count": null,
   "id": "6db27b7f",
   "metadata": {},
   "outputs": [],
   "source": []
  },
  {
   "cell_type": "markdown",
   "id": "773d6238",
   "metadata": {},
   "source": [
    "### 다항회귀"
   ]
  },
  {
   "cell_type": "code",
   "execution_count": 104,
   "id": "f3c71313",
   "metadata": {},
   "outputs": [],
   "source": [
    "from sklearn.preprocessing import PolynomialFeatures"
   ]
  },
  {
   "cell_type": "code",
   "execution_count": 105,
   "id": "e2d5628f",
   "metadata": {},
   "outputs": [
    {
     "name": "stdout",
     "output_type": "stream",
     "text": [
      "   season  holiday  workingday  weather  temp   atemp  humidity  windspeed  \\\n",
      "0       1        0           0        1  9.84  14.395        81        0.0   \n",
      "1       1        0           0        1  9.02  13.635        80        0.0   \n",
      "2       1        0           0        1  9.02  13.635        80        0.0   \n",
      "3       1        0           0        1  9.84  14.395        75        0.0   \n",
      "4       1        0           0        1  9.84  14.395        75        0.0   \n",
      "\n",
      "   year  month  hour  dayofweek  \n",
      "0  2011      1     0          5  \n",
      "1  2011      1     1          5  \n",
      "2  2011      1     2          5  \n",
      "3  2011      1     3          5  \n",
      "4  2011      1     4          5  \n"
     ]
    }
   ],
   "source": [
    "### 새로운 피처도 추가(년, 월, 시간)\n",
    "sel_ex = ['season', 'holiday', 'workingday', 'weather', 'temp',\n",
    "'atemp', 'humidity', 'windspeed', 'year', 'month', 'hour', 'dayofweek']\n",
    "\n",
    "X_tr_all = new_tr[sel_ex]        # 학습용 데이터 변수 선택\n",
    "X_test_all = new_test[sel_ex]    # 테스트 데이터의 변수 선택 \n",
    "print(X_tr_all.head())"
   ]
  },
  {
   "cell_type": "code",
   "execution_count": 106,
   "id": "68b12ca9",
   "metadata": {},
   "outputs": [
    {
     "data": {
      "text/plain": [
       "((10886, 90), (6493, 90), (10886,))"
      ]
     },
     "execution_count": 106,
     "metadata": {},
     "output_type": "execute_result"
    }
   ],
   "source": [
    "ex_X_tr = PolynomialFeatures(degree=2,\n",
    "                            include_bias=False).fit_transform(X_tr_all)\n",
    "\n",
    "# 제출용\n",
    "ex_X_test = PolynomialFeatures(degree=2,\n",
    "                            include_bias=False).fit_transform(X_test_all)\n",
    "\n",
    "y_tr_all = new_tr['count']\n",
    "\n",
    "ex_X_tr.shape, ex_X_test.shape, y_tr_all.shape"
   ]
  },
  {
   "cell_type": "code",
   "execution_count": 107,
   "id": "73ae48bf",
   "metadata": {},
   "outputs": [
    {
     "name": "stdout",
     "output_type": "stream",
     "text": [
      "학습용 결정계수 : 0.992782824322821\n",
      "테스트용 결정계수 : 0.9516075353575615\n"
     ]
    }
   ],
   "source": [
    "# 3-7 앙상블(랜덤포레스트) 모델로 확인해 보기\n",
    "\n",
    "m = RandomForestRegressor()\n",
    "m.fit(X_train, y_train)\n",
    "\n",
    "print(\"학습용 결정계수 :\", m.score(X_train, y_train))\n",
    "print(\"테스트용 결정계수 :\", m.score(X_test, y_test))"
   ]
  },
  {
   "cell_type": "code",
   "execution_count": 108,
   "id": "5c0e8be4",
   "metadata": {},
   "outputs": [],
   "source": [
    "preds = m.predict(X_last_test)\n",
    "sub['count'] = preds\n",
    "\n",
    "# count가 0보다 작으면 0으로 만든다.\n",
    "sub.loc[ sub['count']<0 , \"count\"  ] = 0\n",
    "sub.to_csv(\"6th_model_ensemble(fea90).csv\", index=False)"
   ]
  },
  {
   "cell_type": "markdown",
   "id": "680b68a9",
   "metadata": {},
   "source": [
    "### 자동 특성 추출"
   ]
  },
  {
   "cell_type": "code",
   "execution_count": 109,
   "id": "d3c0fe0f",
   "metadata": {},
   "outputs": [],
   "source": [
    "from sklearn.feature_selection import SelectFromModel"
   ]
  },
  {
   "cell_type": "code",
   "execution_count": 110,
   "id": "4c4fe0c4",
   "metadata": {},
   "outputs": [
    {
     "data": {
      "text/plain": [
       "SelectFromModel(estimator=RandomForestRegressor(), threshold='0.1 * median')"
      ]
     },
     "execution_count": 110,
     "metadata": {},
     "output_type": "execute_result"
    }
   ],
   "source": [
    "select = SelectFromModel(RandomForestRegressor(),\n",
    "                        threshold=\"0.1 * median\")\n",
    "\n",
    "select.fit(X_train, y_train)"
   ]
  },
  {
   "cell_type": "code",
   "execution_count": 112,
   "id": "b86e2a5a",
   "metadata": {},
   "outputs": [
    {
     "data": {
      "text/plain": [
       "((8708, 12), (2178, 12))"
      ]
     },
     "execution_count": 112,
     "metadata": {},
     "output_type": "execute_result"
    }
   ],
   "source": [
    "X_train.shape, X_test.shape"
   ]
  },
  {
   "cell_type": "code",
   "execution_count": 113,
   "id": "c9d705cc",
   "metadata": {},
   "outputs": [
    {
     "data": {
      "text/plain": [
       "((8708, 11), (2178, 11))"
      ]
     },
     "execution_count": 113,
     "metadata": {},
     "output_type": "execute_result"
    }
   ],
   "source": [
    "X_train_l1 = select.transform(X_train)\n",
    "X_test_l1 = select.transform(X_test)\n",
    "\n",
    "X_train_l1.shape, X_test_l1.shape"
   ]
  },
  {
   "cell_type": "code",
   "execution_count": 114,
   "id": "48402c8e",
   "metadata": {
    "scrolled": false
   },
   "outputs": [
    {
     "name": "stdout",
     "output_type": "stream",
     "text": [
      "학습용 결정계수 : 0.9927565462074758\n",
      "테스트용 결정계수 : 0.9532594513661825\n"
     ]
    }
   ],
   "source": [
    "# 3-7 앙상블(랜덤포레스트) 모델로 확인해 보기\n",
    "\n",
    "m = RandomForestRegressor()\n",
    "m.fit(X_train, y_train)\n",
    "\n",
    "print(\"학습용 결정계수 :\", m.score(X_train, y_train))\n",
    "print(\"테스트용 결정계수 :\", m.score(X_test, y_test))"
   ]
  },
  {
   "cell_type": "markdown",
   "id": "c2f77839",
   "metadata": {},
   "source": [
    "#### 1. 새로운 피쳐 만들기 - 년원일시분초\n",
    "#### 2. 피처 선택 - 년월시 (분초 데이터 없음, 일 tr test 상이)\n",
    "#### 3. 모델(선형회귀, 의사결정트리, 앙상블)\n",
    "#### 4. 앙상블 dayofweek 약간 성능 향상 4-1 로그변환(traget)\n",
    "#### 5. 다항회귀 피처를 대량 생산 성능 향상\n",
    "#### 6. 피처 중에 모델의 특성 중요도를 이용해서 일부 90% 선택 성능향상"
   ]
  },
  {
   "cell_type": "markdown",
   "id": "e47eb670",
   "metadata": {},
   "source": [
    "### target 값 변환"
   ]
  },
  {
   "cell_type": "code",
   "execution_count": 122,
   "id": "f6c85e5e",
   "metadata": {},
   "outputs": [],
   "source": [
    "### 새로운 feature도 추가(년, 월, 시간)\n",
    "\n",
    "sel = ['season', 'holiday', 'workingday', 'weather', 'temp',\n",
    "      'atemp', 'humidity', 'windspeed', 'year', 'month', 'hour', 'dayofweek' ]"
   ]
  },
  {
   "cell_type": "code",
   "execution_count": 123,
   "id": "3e6ee164",
   "metadata": {},
   "outputs": [
    {
     "data": {
      "text/plain": [
       "<AxesSubplot:xlabel='count', ylabel='Count'>"
      ]
     },
     "execution_count": 123,
     "metadata": {},
     "output_type": "execute_result"
    },
    {
     "data": {
      "image/png": "[encoded data removed]",
      "text/plain": [
       "<Figure size 432x288 with 1 Axes>"
      ]
     },
     "metadata": {
      "needs_background": "light"
     },
     "output_type": "display_data"
    }
   ],
   "source": [
    "sns.histplot(x='count', data=new_tr)"
   ]
  },
  {
   "cell_type": "code",
   "execution_count": 124,
   "id": "4c73853b",
   "metadata": {},
   "outputs": [],
   "source": [
    "new_tr['log_count'] = np.log1p(new_tr['count'])"
   ]
  },
  {
   "cell_type": "code",
   "execution_count": 125,
   "id": "77916af5",
   "metadata": {},
   "outputs": [],
   "source": [
    "X_tr = new_tr[sel_ex]\n",
    "y = new_tr['log_count']\n",
    "\n",
    "X_last_test = new_test[sel_ex]\n",
    "\n",
    "X_train, X_test, y_train, y_test = train_test_split(X_tr, y, test_size=0.2, random_state=77)"
   ]
  },
  {
   "cell_type": "code",
   "execution_count": 126,
   "id": "728fe3e7",
   "metadata": {},
   "outputs": [
    {
     "name": "stdout",
     "output_type": "stream",
     "text": [
      "학습용 결정계수 : 0.9933763455134171\n",
      "테스트용 결정계수 : 0.9580276527038242\n"
     ]
    }
   ],
   "source": [
    "# 3-7 앙상블(랜덤포레스트) 모델로 확인해 보기\n",
    "\n",
    "m = RandomForestRegressor()\n",
    "m.fit(X_train, y_train)\n",
    "\n",
    "print(\"학습용 결정계수 :\", m.score(X_train, y_train))\n",
    "print(\"테스트용 결정계수 :\", m.score(X_test, y_test))"
   ]
  },
  {
   "cell_type": "markdown",
   "id": "7afe43a4",
   "metadata": {},
   "source": [
    "### 모델 예측"
   ]
  },
  {
   "cell_type": "code",
   "execution_count": 127,
   "id": "9fdb881a",
   "metadata": {},
   "outputs": [],
   "source": [
    "preds = m.predict(X_last_test)\n",
    "sub['count'] = np.expm1(preds)\n",
    "sub.to_csv(\"9th_model_ensemble.csv\", index=False)"
   ]
  },
  {
   "cell_type": "code",
   "execution_count": null,
   "id": "25b5bda0",
   "metadata": {},
   "outputs": [],
   "source": []
  }
 ],
 "metadata": {
  "kernelspec": {
   "display_name": "Python 3 (ipykernel)",
   "language": "python",
   "name": "python3"
  },
  "language_info": {
   "codemirror_mode": {
    "name": "ipython",
    "version": 3
   },
   "file_extension": ".py",
   "mimetype": "text/x-python",
   "name": "python",
   "nbconvert_exporter": "python",
   "pygments_lexer": "ipython3",
   "version": "3.9.12"
  }
 },
 "nbformat": 4,
 "nbformat_minor": 5
}
