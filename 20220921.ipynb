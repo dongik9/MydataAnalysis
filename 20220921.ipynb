{
 "cells": [
  {
   "cell_type": "code",
   "execution_count": 5,
   "id": "e09be9f4",
   "metadata": {},
   "outputs": [],
   "source": [
    "### 한글 폰트 설정\n",
    "import matplotlib\n",
    "from matplotlib import font_manager, rc\n",
    "import matplotlib.pyplot as plt\n",
    "import platform\n",
    "\n",
    "path = \"C:/Windows/Fonts/malgun.ttf\"\n",
    "if platform.system() == \"Windows\":\n",
    "    font_name = font_manager.FontProperties(fname=path).get_name()\n",
    "    rc('font', family=font_name)\n",
    "elif platform.system()==\"Darwin\":\n",
    "    rc('font', family='AppleGothic')\n",
    "else:\n",
    "    print(\"Unknown System\")\n",
    "    \n",
    "matplotlib.rcParams['axes.unicode_minus'] = False\n",
    "\n",
    "%matplotlib inline"
   ]
  },
  {
   "cell_type": "code",
   "execution_count": 6,
   "id": "07f10be8",
   "metadata": {},
   "outputs": [],
   "source": [
    "import mglearn\n",
    "import matplotlib.pyplot as plt\n",
    "import pandas as pd\n",
    "import numpy as np\n",
    "\n",
    "%matplotlib inline"
   ]
  },
  {
   "cell_type": "code",
   "execution_count": 7,
   "id": "49269f42",
   "metadata": {
    "scrolled": true
   },
   "outputs": [
    {
     "name": "stderr",
     "output_type": "stream",
     "text": [
      "C:\\Users\\AI02\\anaconda3\\lib\\site-packages\\sklearn\\utils\\deprecation.py:87: FutureWarning: Function make_blobs is deprecated; Please import make_blobs directly from scikit-learn\n",
      "  warnings.warn(msg, category=FutureWarning)\n"
     ]
    },
    {
     "data": {
      "image/png": "[encoded data removed]",
      "text/plain": [
       "<Figure size 432x288 with 1 Axes>"
      ]
     },
     "metadata": {
      "needs_background": "light"
     },
     "output_type": "display_data"
    }
   ],
   "source": [
    "mglearn.plots.plot_knn_classification(n_neighbors=3)"
   ]
  },
  {
   "cell_type": "code",
   "execution_count": 9,
   "id": "adb242cb",
   "metadata": {},
   "outputs": [],
   "source": [
    "from sklearn.neighbors import KNeighborsClassifier\n",
    "from sklearn.model_selection import train_test_split"
   ]
  },
  {
   "cell_type": "code",
   "execution_count": 10,
   "id": "db794f38",
   "metadata": {},
   "outputs": [
    {
     "name": "stderr",
     "output_type": "stream",
     "text": [
      "C:\\Users\\AI02\\anaconda3\\lib\\site-packages\\sklearn\\utils\\deprecation.py:87: FutureWarning: Function make_blobs is deprecated; Please import make_blobs directly from scikit-learn\n",
      "  warnings.warn(msg, category=FutureWarning)\n"
     ]
    }
   ],
   "source": [
    "X, y = mglearn.datasets.make_forge()\n",
    "\n",
    "X_train, X_test, y_train, y_test = train_test_split(X, y, \n",
    "                                             random_state=0)"
   ]
  },
  {
   "cell_type": "code",
   "execution_count": 11,
   "id": "32851166",
   "metadata": {},
   "outputs": [
    {
     "data": {
      "text/plain": [
       "<matplotlib.legend.Legend at 0x28ac2568d30>"
      ]
     },
     "execution_count": 11,
     "metadata": {},
     "output_type": "execute_result"
    },
    {
     "data": {
      "image/png": "[encoded data removed]",
      "text/plain": [
       "<Figure size 720x216 with 3 Axes>"
      ]
     },
     "metadata": {},
     "output_type": "display_data"
    }
   ],
   "source": [
    "fig, axes = plt.subplots(1, 3, figsize=(10, 3))\n",
    "\n",
    "for n_neighbors, ax in zip([1, 3, 9], axes):\n",
    "    # fit 메소드는 self 오브젝트를 리턴합니다\n",
    "    # 그래서 객체 생성과 fit 메소드를 한 줄에 쓸 수 있습니다\n",
    "    model = KNeighborsClassifier(n_neighbors=n_neighbors).fit(X, y)\n",
    "    mglearn.plots.plot_2d_separator(model, X, \n",
    "                                    fill=True, eps=0.5, ax=ax, alpha=.4)\n",
    "    \n",
    "    mglearn.discrete_scatter(X[:, 0], X[:, 1], y, ax=ax)\n",
    "    ax.set_title(\"{} 이웃\".format(n_neighbors))\n",
    "    ax.set_xlabel(\"특성 0\")\n",
    "    ax.set_ylabel(\"특성 1\")\n",
    "axes[0].legend(loc=3)"
   ]
  },
  {
   "cell_type": "code",
   "execution_count": 12,
   "id": "6765913c",
   "metadata": {},
   "outputs": [],
   "source": [
    "from sklearn.datasets import load_breast_cancer\n",
    "import matplotlib.pyplot as plt"
   ]
  },
  {
   "cell_type": "code",
   "execution_count": 13,
   "id": "4ae3bacc",
   "metadata": {},
   "outputs": [
    {
     "name": "stdout",
     "output_type": "stream",
     "text": [
      "cancer.keys() : \n",
      "dict_keys(['data', 'target', 'frame', 'target_names', 'DESCR', 'feature_names', 'filename', 'data_module'])\n",
      "유방암 데이터의 행열 : (569, 30)\n"
     ]
    }
   ],
   "source": [
    "cancer = load_breast_cancer()\n",
    "print(\"cancer.keys() : \\n{}\".format(cancer.keys()))\n",
    "print(\"유방암 데이터의 행열 : {}\".format(cancer.data.shape))"
   ]
  },
  {
   "cell_type": "code",
   "execution_count": 14,
   "id": "7b860dae",
   "metadata": {},
   "outputs": [
    {
     "name": "stdout",
     "output_type": "stream",
     "text": [
      "특성이름(featuer_names) : ['mean radius' 'mean texture' 'mean perimeter' 'mean area'\n",
      " 'mean smoothness' 'mean compactness' 'mean concavity'\n",
      " 'mean concave points' 'mean symmetry' 'mean fractal dimension'\n",
      " 'radius error' 'texture error' 'perimeter error' 'area error'\n",
      " 'smoothness error' 'compactness error' 'concavity error'\n",
      " 'concave points error' 'symmetry error' 'fractal dimension error'\n",
      " 'worst radius' 'worst texture' 'worst perimeter' 'worst area'\n",
      " 'worst smoothness' 'worst compactness' 'worst concavity'\n",
      " 'worst concave points' 'worst symmetry' 'worst fractal dimension']\n",
      "유방암 데이터의 형태 :  (569, 30)\n",
      "\n",
      "클래스 이름(target_names) : ['malignant' 'benign']\n",
      "클래스별 샘플 개수 : \n",
      " [212 357]\n"
     ]
    }
   ],
   "source": [
    "print(\"특성이름(featuer_names) : {}\".format(cancer['feature_names']))\n",
    "print(\"유방암 데이터의 형태 : \", cancer.data.shape)\n",
    "print()\n",
    "print(\"클래스 이름(target_names) : {}\".format(cancer['target_names']))\n",
    "print(\"클래스별 샘플 개수 : \\n\",np.bincount(cancer.target))"
   ]
  },
  {
   "cell_type": "code",
   "execution_count": 15,
   "id": "9ee4ea1d",
   "metadata": {},
   "outputs": [],
   "source": [
    "from sklearn.model_selection import train_test_split"
   ]
  },
  {
   "cell_type": "code",
   "execution_count": 16,
   "id": "d7e263dc",
   "metadata": {},
   "outputs": [],
   "source": [
    "# 입력/출력\n",
    "X = cancer.data\n",
    "y = cancer.target\n",
    "\n",
    "# 데이터 나누기 : 75%, 25%\n",
    "# 5:5, 6:4, 7:3, 8:2, 9:1\n",
    "X_train, X_test, y_train, y_test = train_test_split(X, y, \n",
    "                                        stratify=y,\n",
    "                                        test_size=0.3,\n",
    "                                        random_state=77)"
   ]
  },
  {
   "cell_type": "code",
   "execution_count": 17,
   "id": "8365f9b0",
   "metadata": {},
   "outputs": [
    {
     "name": "stdout",
     "output_type": "stream",
     "text": [
      "398\n",
      "target y의 \n",
      " 0의 개수 : 212 \n",
      " 1의 개수 : 357\n"
     ]
    }
   ],
   "source": [
    "print( len(y_train) )\n",
    "y_1_all = (y == 1).sum() \n",
    "y_0_all =  (y == 0).sum() \n",
    "\n",
    "print(f\"target y의 \\n 0의 개수 : {y_0_all} \\n 1의 개수 : {y_1_all}\")"
   ]
  },
  {
   "cell_type": "code",
   "execution_count": 18,
   "id": "b68ec67d",
   "metadata": {},
   "outputs": [
    {
     "name": "stdout",
     "output_type": "stream",
     "text": [
      "데이터 셋의 target(학습:테스트)의 비율 - 1에 대해서\n",
      "train비율 : 0.7002801120448179, test비율 : 0.29971988795518206\n",
      "데이터 셋의 target(학습:테스트)의 비율 - 0에 대해서\n",
      "train비율 : 0.6981132075471698, test비율 : 0.3018867924528302\n"
     ]
    }
   ],
   "source": [
    "y_train_1 = (y_train == 1).sum()\n",
    "y_test_1 = (y_test == 1).sum()\n",
    "\n",
    "y_train_0 = len(y_train) - (y_train == 1).sum()\n",
    "y_test_0 = len(y_test) - (y_test == 1).sum()\n",
    "\n",
    "print(\"데이터 셋의 target(학습:테스트)의 비율 - 1에 대해서\")\n",
    "print(f\"train비율 : {y_train_1/y_1_all}, test비율 : {y_test_1/y_1_all}\")\n",
    "\n",
    "print(\"데이터 셋의 target(학습:테스트)의 비율 - 0에 대해서\")\n",
    "print(f\"train비율 : {y_train_0/y_0_all}, test비율 : {y_test_0/y_0_all}\")"
   ]
  },
  {
   "cell_type": "code",
   "execution_count": 19,
   "id": "8f6c960d",
   "metadata": {},
   "outputs": [
    {
     "data": {
      "text/plain": [
       "array([1, 1, 1, 0, 1, 1, 1, 0, 1, 1, 0, 1, 1, 1, 1, 1, 1, 1, 1, 1, 0, 0,\n",
       "       1, 1, 1, 1, 0, 0, 0, 0, 0, 1, 1, 0, 0, 1, 0, 0, 0, 1, 1, 1, 0, 1,\n",
       "       1, 0, 0, 1, 0, 1, 0, 1, 0, 0, 1, 1, 0, 1, 1, 1, 0, 0, 0, 1, 0, 1,\n",
       "       1, 1, 1, 0, 1, 0, 1, 1, 1, 1, 1, 1, 1, 1, 1, 0, 0, 0, 1, 1, 0, 1,\n",
       "       1, 0, 1, 0, 1, 1, 1, 0, 0, 0, 0, 1, 1, 1, 1, 0, 1, 1, 1, 1, 0, 1,\n",
       "       1, 0, 1, 0, 1, 1, 1, 0, 1, 0, 0, 0, 1, 0, 1, 1, 1, 1, 1, 1, 1, 1,\n",
       "       1, 0, 1, 0, 1, 0, 1, 1, 0, 0, 0, 1, 0, 1, 1, 1, 0, 0, 1, 0, 0, 1,\n",
       "       1, 1, 1, 0, 1, 1, 0, 1, 0, 0, 1, 1, 0, 1, 1, 1, 1])"
      ]
     },
     "execution_count": 19,
     "metadata": {},
     "output_type": "execute_result"
    }
   ],
   "source": [
    "from sklearn.neighbors import KNeighborsClassifier\n",
    "\n",
    "model = KNeighborsClassifier(n_neighbors = 3) # 알고리즘 지정\n",
    "model.fit(X_train, y_train)  # 학습 \n",
    "pred = model.predict(X_test) # 예측\n",
    "pred"
   ]
  },
  {
   "cell_type": "code",
   "execution_count": 20,
   "id": "7ee53ff3",
   "metadata": {},
   "outputs": [
    {
     "name": "stdout",
     "output_type": "stream",
     "text": [
      "테스트 세트의 정확도 : 0.9181286549707602\n"
     ]
    }
   ],
   "source": [
    "print(\"테스트 세트의 정확도 : {}\".format(model.score(X_test, y_test)))"
   ]
  },
  {
   "cell_type": "code",
   "execution_count": null,
   "id": "05272de3",
   "metadata": {},
   "outputs": [],
   "source": []
  }
 ],
 "metadata": {
  "kernelspec": {
   "display_name": "Python 3 (ipykernel)",
   "language": "python",
   "name": "python3"
  },
  "language_info": {
   "codemirror_mode": {
    "name": "ipython",
    "version": 3
   },
   "file_extension": ".py",
   "mimetype": "text/x-python",
   "name": "python",
   "nbconvert_exporter": "python",
   "pygments_lexer": "ipython3",
   "version": "3.9.12"
  }
 },
 "nbformat": 4,
 "nbformat_minor": 5
}
